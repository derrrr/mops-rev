{
 "cells": [
  {
   "cell_type": "code",
   "execution_count": 1,
   "id": "05c3de42",
   "metadata": {},
   "outputs": [],
   "source": [
    "import re\n",
    "import os\n",
    "import sys\n",
    "import time\n",
    "import codecs\n",
    "import random\n",
    "import shutil\n",
    "import smtplib\n",
    "import requests\n",
    "import datetime\n",
    "import openpyxl\n",
    "import configparser\n",
    "import numpy as np\n",
    "import pandas as pd\n",
    "from bs4 import BeautifulSoup as BS\n",
    "from pathlib import Path\n",
    "from chardet import detect\n",
    "from functools import reduce\n",
    "# from datetime import datetime, date, timedelta\n",
    "# from datetime import date, timedelta\n",
    "from dateutil.relativedelta import relativedelta"
   ]
  },
  {
   "cell_type": "code",
   "execution_count": 2,
   "id": "48bc3e89",
   "metadata": {},
   "outputs": [],
   "source": [
    "%config Completer.use_jedi = False"
   ]
  },
  {
   "cell_type": "code",
   "execution_count": 3,
   "id": "e56b579a",
   "metadata": {},
   "outputs": [],
   "source": [
    "def _load_config():\n",
    "    config_path = \"./config.ini\"\n",
    "    with open(config_path, \"rb\") as ef:\n",
    "        config_encoding = detect(ef.read())[\"encoding\"]\n",
    "    config = configparser.ConfigParser()\n",
    "    config.read_file(codecs.open(config_path, \"r\", config_encoding))\n",
    "    return config"
   ]
  },
  {
   "cell_type": "code",
   "execution_count": 4,
   "id": "44352d6b",
   "metadata": {
    "scrolled": true
   },
   "outputs": [],
   "source": [
    "config = _load_config()"
   ]
  },
  {
   "cell_type": "code",
   "execution_count": 5,
   "id": "3662b847",
   "metadata": {},
   "outputs": [],
   "source": [
    "def _requests_session():\n",
    "    session = requests.session()\n",
    "    headers = {\n",
    "        \"user-agent\": config[\"Requests_header\"][\"user-agent\"]\n",
    "    }\n",
    "    session.headers.update(headers)\n",
    "    return session"
   ]
  },
  {
   "cell_type": "code",
   "execution_count": 6,
   "id": "b6b08c56",
   "metadata": {},
   "outputs": [],
   "source": [
    "def _requests_session():\n",
    "    session = requests.session()\n",
    "    headers = {\n",
    "        \"user-agent\": \"Mozilla/5.0 (Windows NT 10.0; Win64; x64) AppleWebKit/537.36 (KHTML, like Gecko) Chrome/83.0.4103.61 Safari/537.36\"\n",
    "    }\n",
    "    session.headers.update(headers)\n",
    "    return session"
   ]
  },
  {
   "cell_type": "code",
   "execution_count": 7,
   "id": "d01d4b67",
   "metadata": {},
   "outputs": [],
   "source": [
    "def multiple_replace(sub_dict, text):\n",
    "     # Create a regular expression  from the dictionary keys\n",
    "    regex = re.compile(\"(%s)\" % \"|\".join(map(re.escape, sub_dict.keys())))\n",
    "\n",
    "     # For each match, look-up corresponding value in dictionary\n",
    "    return regex.sub(lambda mo: sub_dict[mo.string[mo.start():mo.end()]], text)"
   ]
  },
  {
   "cell_type": "code",
   "execution_count": 8,
   "id": "00d03479",
   "metadata": {},
   "outputs": [],
   "source": [
    "def df_m_pick(df_path, col_name):\n",
    "    df = pd.read_csv(df_path, encoding=\"utf-8-sig\")\n",
    "    df[df[\"資料年月\"][0]] = df[col_name]\n",
    "    df_m = df[[\"代號\", \"名稱\", df[\"資料年月\"][0]]]\n",
    "    return df_m"
   ]
  },
  {
   "cell_type": "code",
   "execution_count": 9,
   "id": "6317a7ca",
   "metadata": {},
   "outputs": [],
   "source": [
    "market = [\"sii\", \"otc\", \"rotc\"]"
   ]
  },
  {
   "cell_type": "markdown",
   "id": "07651b0d",
   "metadata": {},
   "source": [
    "### 路徑"
   ]
  },
  {
   "cell_type": "code",
   "execution_count": 10,
   "id": "083159fc",
   "metadata": {},
   "outputs": [],
   "source": [
    "os.makedirs(\"./sii_otc\", exist_ok=True)"
   ]
  },
  {
   "cell_type": "code",
   "execution_count": 11,
   "id": "88369586",
   "metadata": {},
   "outputs": [
    {
     "data": {
      "text/plain": [
       "['csv', 'xlsx']"
      ]
     },
     "execution_count": 11,
     "metadata": {},
     "output_type": "execute_result"
    }
   ],
   "source": [
    "os.chdir(\"./sii_otc\")\n",
    "os.listdir()"
   ]
  },
  {
   "cell_type": "code",
   "execution_count": 12,
   "id": "fe0ad922",
   "metadata": {},
   "outputs": [],
   "source": [
    "# os.chdir(\"..\")\n",
    "# os.listdir()"
   ]
  },
  {
   "cell_type": "code",
   "execution_count": 13,
   "id": "0a776595",
   "metadata": {},
   "outputs": [],
   "source": [
    "# 過去raw csv\n",
    "past_dir = \"./csv/past\"\n",
    "\n",
    "# 過去上市櫃合併\n",
    "past_all_dir = \"./csv/past_all\"\n",
    "\n",
    "# 全部併成data\n",
    "data_dir = \"./csv/data\"\n",
    "data_rev_dir = \"./csv/data/rev\"\n",
    "data_yoy_dir = \"./csv/data/yoy\"\n",
    "data_cum_rev_dir = \"./csv/data/cum-rev\"\n",
    "data_cum_yoy_dir = \"./csv/data/cum-yoy\"\n",
    "\n",
    "# 單天csv\n",
    "market_dir = \"./csv/_market\"\n",
    "sii_dir = \"./csv/_market/sii\"\n",
    "otc_dir = \"./csv/_market/otc\"\n",
    "# rotc_dir = \"./csv/_market/rotc\"\n",
    "\n",
    "# 單天合併\n",
    "concat_dir = \"./csv/all\"\n",
    "\n",
    "# 當天新增\n",
    "add_dir = \"./csv/add\"\n",
    "\n",
    "# 月營收xlsx\n",
    "xlsx_dir = \"./xlsx\""
   ]
  },
  {
   "cell_type": "code",
   "execution_count": null,
   "id": "a4ccbe68",
   "metadata": {},
   "outputs": [],
   "source": []
  },
  {
   "cell_type": "markdown",
   "id": "a39826b8",
   "metadata": {},
   "source": [
    "### 抓以前的資料"
   ]
  },
  {
   "cell_type": "code",
   "execution_count": 14,
   "id": "4a65bf11",
   "metadata": {},
   "outputs": [],
   "source": [
    "Y = list(range(111, 112))\n",
    "M = list(range(8, 9))\n",
    "mkt = [\"sii\", \"otc\"]\n",
    "\n",
    "import itertools\n",
    "cum = len(Y)*len(M)*len(mkt)\n",
    "\n",
    "os.makedirs(\"./csv/past\", exist_ok=True)"
   ]
  },
  {
   "cell_type": "code",
   "execution_count": 15,
   "id": "f7801e3f",
   "metadata": {},
   "outputs": [
    {
     "name": "stdout",
     "output_type": "stream",
     "text": [
      "2 / 2 done.\n"
     ]
    }
   ],
   "source": [
    "count = 0\n",
    "\n",
    "for y, m, mk in itertools.product(Y, M, mkt):\n",
    "    url = \"https://mops.twse.com.tw/nas/t21/{}/t21sc03_{}_{}.csv\".format(mk, y, m)\n",
    "    rs = _requests_session()\n",
    "    res = rs.get(url)\n",
    "    res.encoding = \"utf-8-sig\"\n",
    "\n",
    "    save_path = \"./csv/past/m-rev-{}-{}-{}.csv\".format(str(y+1911), str(m).zfill(2), mk)\n",
    "    with open(save_path, \"w\", encoding=\"utf-8-sig\") as save:\n",
    "        save.write(res.text.replace(\"\\r\\n\", \"\\n\"))\n",
    "\n",
    "    count += 1\n",
    "    if count % 10 == 0:\n",
    "        print(\"{} / {} done.\".format(count, cum))\n",
    "    time.sleep(random.uniform(1.5, 7))\n",
    "    # print(url)\n",
    "print(\"{} / {} done.\".format(count, cum))"
   ]
  },
  {
   "cell_type": "code",
   "execution_count": null,
   "id": "806dd817",
   "metadata": {},
   "outputs": [],
   "source": []
  },
  {
   "cell_type": "markdown",
   "id": "4fe5c015",
   "metadata": {},
   "source": [
    "### 下載當日rev"
   ]
  },
  {
   "cell_type": "code",
   "execution_count": null,
   "id": "6a7d4c4f",
   "metadata": {},
   "outputs": [],
   "source": [
    "def data_date(x):\n",
    "    match = re.search(\"(\\d+)/(\\d+)\", x)\n",
    "    data_Y = int(match[1]) + 1911\n",
    "    data_m = int(match[2])\n",
    "    return datetime.datetime(data_Y, data_m, 1) + relativedelta(months=1) - datetime.timedelta(days=1)"
   ]
  },
  {
   "cell_type": "code",
   "execution_count": null,
   "id": "753bea08",
   "metadata": {},
   "outputs": [],
   "source": [
    "date_Y = date.today().year\n",
    "date_Y"
   ]
  },
  {
   "cell_type": "code",
   "execution_count": null,
   "id": "b9ad9724",
   "metadata": {},
   "outputs": [],
   "source": [
    "if datetime.date.today().day < 15:\n",
    "    data_m = datetime.date.today() - relativedelta(months=1)\n",
    "else:\n",
    "    data_m = date.today()\n",
    "data_m.month"
   ]
  },
  {
   "cell_type": "code",
   "execution_count": null,
   "id": "eafb6e75",
   "metadata": {},
   "outputs": [],
   "source": []
  },
  {
   "cell_type": "code",
   "execution_count": null,
   "id": "33cd4be2",
   "metadata": {},
   "outputs": [],
   "source": [
    "# 測試改月\n",
    "data_m = 3"
   ]
  },
  {
   "cell_type": "code",
   "execution_count": null,
   "id": "046460d8",
   "metadata": {},
   "outputs": [],
   "source": [
    "datetime.datetime.now().strftime(\"%Y-%m-%d-%H%M\")"
   ]
  },
  {
   "cell_type": "code",
   "execution_count": null,
   "id": "e6c11aea",
   "metadata": {},
   "outputs": [],
   "source": [
    "def save_rev(market, date_Y, data_m):\n",
    "    url = \"https://mops.twse.com.tw/nas/t21/{}/t21sc03_{}_{}.csv\".format(market, str(date_Y-1911), str(data_m))\n",
    "    rs = _requests_session()\n",
    "    res = rs.get(url)\n",
    "    res.encoding = \"utf-8-sig\"\n",
    "    mkdirs(\"./csv/_market/{}\".format(market))\n",
    "\n",
    "#     date_save = date.today().strftime(\"%Y-%m-%d\")\n",
    "    # date_save = yesterday.strftime(\"%Y-%m-%d\")\n",
    "    date_save = datetime.datetime.now().strftime(\"%Y-%m-%d-%H%M\")\n",
    "\n",
    "    save_path = \"{}/{}/m-rev-{}-{}-{}-{}.csv\".format(market_dir, market, str(date_Y), \\\n",
    "        str(data_m).zfill(2), market, datetime.datetime.now().strftime(\"%Y-%m-%d-%H%M\"))\n",
    "    with open(save_path, \"w\", encoding=\"utf-8-sig\") as save:\n",
    "        save.write(res.text.replace(\"\\r\\n\", \"\\n\"))\n",
    "\n",
    "    return save_path"
   ]
  },
  {
   "cell_type": "code",
   "execution_count": null,
   "id": "b34a503d",
   "metadata": {},
   "outputs": [],
   "source": [
    "df_path = [save_rev(i, date_Y, data_m) for i in market]\n",
    "df_path"
   ]
  },
  {
   "cell_type": "code",
   "execution_count": null,
   "id": "1626380b",
   "metadata": {},
   "outputs": [],
   "source": []
  },
  {
   "cell_type": "markdown",
   "id": "ba88e7a0",
   "metadata": {},
   "source": [
    "### 單日合併"
   ]
  },
  {
   "cell_type": "code",
   "execution_count": null,
   "id": "1b2fa490",
   "metadata": {},
   "outputs": [],
   "source": [
    "dfs = [pd.read_csv(path, encoding=\"utf-8-sig\") for path in df_path]\n",
    "df_c = pd.concat(dfs, axis=0, join=\"outer\", ignore_index=True, copy=True)\n",
    "df_cols = [\"出表日期\", \"資料年月\", \"代號\", \"名稱\", \"產業\", \"月營收\", \"上月營收\", \\\n",
    "           \"去年當月營收\", \"MoM\", \"YoY\", \"累計營收\", \"去年累計\", \"累計YoY\", \"備註\"]\n",
    "df_c.columns = df_cols\n",
    "drop_cols = [\"出表日期\", \"上月營收\", \"去年當月營收\", \"去年累計\"]\n",
    "df_c.drop(drop_cols, axis=1, inplace=True)\n",
    "df_c=df_c.drop_duplicates()\n",
    "df_c[\"資料年月\"] = df_c[\"資料年月\"].apply(data_date)\n",
    "df_c = df_c.sort_values([\"YoY\", \"MoM\"], ascending=False)"
   ]
  },
  {
   "cell_type": "code",
   "execution_count": null,
   "id": "f9988220",
   "metadata": {},
   "outputs": [],
   "source": [
    "mkdirs(concat_dir)\n",
    "concat_path = \"{}/m-rev-{}-{}-all-{}.csv\".format(concat_dir, str(date_Y), str(data_m).zfill(2), datetime.datetime.now().strftime(\"%Y-%m-%d-%H%M\"))\n",
    "df_c.to_csv(concat_path, index=False, encoding=\"utf-8-sig\")"
   ]
  },
  {
   "cell_type": "code",
   "execution_count": null,
   "id": "b0001c5f",
   "metadata": {},
   "outputs": [],
   "source": []
  },
  {
   "cell_type": "code",
   "execution_count": null,
   "id": "7edf9eb1",
   "metadata": {},
   "outputs": [],
   "source": [
    "# dd_s = os.listdir(\"./csv/all-3/\")"
   ]
  },
  {
   "cell_type": "code",
   "execution_count": null,
   "id": "344f7509",
   "metadata": {},
   "outputs": [],
   "source": [
    "# for a in dd_s:\n",
    "#     path = \"./csv/all-3/{}\".format(a)\n",
    "#     dd_ds = pd.read_csv(path, encoding=\"utf-8-sig\")\n",
    "#     dd_ds = dd_ds.drop_duplicates()\n",
    "#     dd_ds.to_csv(path, index=False, encoding=\"utf-8-sig\")"
   ]
  },
  {
   "cell_type": "code",
   "execution_count": null,
   "id": "eaaae8ca",
   "metadata": {},
   "outputs": [],
   "source": []
  },
  {
   "cell_type": "markdown",
   "id": "c585b0df",
   "metadata": {},
   "source": [
    "### 新增"
   ]
  },
  {
   "cell_type": "code",
   "execution_count": null,
   "id": "b8763102",
   "metadata": {},
   "outputs": [],
   "source": [
    "concat_list = list(Path(concat_dir).iterdir())\n",
    "concat_list.sort()\n",
    "concat_list"
   ]
  },
  {
   "cell_type": "code",
   "execution_count": null,
   "id": "b3ef4e38",
   "metadata": {},
   "outputs": [],
   "source": []
  },
  {
   "cell_type": "code",
   "execution_count": null,
   "id": "0d2c2d68",
   "metadata": {},
   "outputs": [],
   "source": [
    "last_path = concat_list[-1]\n",
    "previous_path = concat_list[-2]"
   ]
  },
  {
   "cell_type": "code",
   "execution_count": null,
   "id": "915cdbe3",
   "metadata": {},
   "outputs": [],
   "source": [
    "previous_path.stem[:13]"
   ]
  },
  {
   "cell_type": "code",
   "execution_count": null,
   "id": "2acbc743",
   "metadata": {},
   "outputs": [],
   "source": [
    "df_0 = pd.read_csv(last_path, encoding=\"utf-8-sig\")\n",
    "df_1 = pd.read_csv(previous_path, encoding=\"utf-8-sig\")\n",
    "df_0_1 = df_0.merge(df_1, on=\"代號\", how=\"left\", indicator=True)\n",
    "df_0_not_1 = df_0_1[df_0_1[\"_merge\"] == \"left_only\"].drop(columns=[\"_merge\"])\n",
    "df_0_not_1.columns = df_0_not_1.columns.str.replace(\"_x\", \"\")\n",
    "df_0_not_1.drop(list(df_0_not_1.filter(regex = \"_\")), axis = 1, inplace = True) \n",
    "df_0_not_1.fillna(\"\", inplace=True)\n",
    "df_0_not_1 = df_0_not_1.sort_values([\"YoY\", \"MoM\"], ascending=False, na_position=\"last\")"
   ]
  },
  {
   "cell_type": "code",
   "execution_count": null,
   "id": "6e95c892",
   "metadata": {},
   "outputs": [],
   "source": []
  },
  {
   "cell_type": "code",
   "execution_count": null,
   "id": "8051009b",
   "metadata": {},
   "outputs": [],
   "source": []
  },
  {
   "cell_type": "code",
   "execution_count": null,
   "id": "3ee6d556",
   "metadata": {},
   "outputs": [],
   "source": [
    "df_0_not_1.shape"
   ]
  },
  {
   "cell_type": "code",
   "execution_count": null,
   "id": "804dd591",
   "metadata": {},
   "outputs": [],
   "source": [
    "# mkdirs(add_dir)"
   ]
  },
  {
   "cell_type": "code",
   "execution_count": null,
   "id": "84c03592",
   "metadata": {},
   "outputs": [],
   "source": [
    "concat_list[-1].name.replace(\"all\", \"add\")"
   ]
  },
  {
   "cell_type": "code",
   "execution_count": null,
   "id": "0f88e453",
   "metadata": {},
   "outputs": [],
   "source": [
    "add_path = \"{}/{}\".format(add_dir, concat_list[-1].name.replace(\"all\", \"add\"))\n",
    "add_path"
   ]
  },
  {
   "cell_type": "code",
   "execution_count": null,
   "id": "b34d18fe",
   "metadata": {},
   "outputs": [],
   "source": [
    "df_0_not_1.to_csv(add_path, index=False, encoding=\"utf-8-sig\")"
   ]
  },
  {
   "cell_type": "code",
   "execution_count": null,
   "id": "8b010542",
   "metadata": {},
   "outputs": [],
   "source": []
  },
  {
   "cell_type": "code",
   "execution_count": null,
   "id": "8a7c24ad",
   "metadata": {},
   "outputs": [],
   "source": []
  },
  {
   "cell_type": "markdown",
   "id": "ed0809a4",
   "metadata": {},
   "source": [
    "### 併成xlsx"
   ]
  },
  {
   "cell_type": "code",
   "execution_count": null,
   "id": "f001dcc0",
   "metadata": {},
   "outputs": [],
   "source": [
    "add_list = list(Path(add_dir).iterdir())\n",
    "concat_list = list(Path(concat_dir).iterdir())"
   ]
  },
  {
   "cell_type": "code",
   "execution_count": null,
   "id": "62aa8b50",
   "metadata": {},
   "outputs": [],
   "source": []
  },
  {
   "cell_type": "code",
   "execution_count": null,
   "id": "a2cff81b",
   "metadata": {},
   "outputs": [],
   "source": [
    "df_add = pd.read_csv(add_list[-1], encoding=\"utf-8-sig\")\n",
    "df_con = pd.read_csv(concat_list[-1], encoding=\"utf-8-sig\")"
   ]
  },
  {
   "cell_type": "code",
   "execution_count": null,
   "id": "aa632890",
   "metadata": {},
   "outputs": [],
   "source": []
  },
  {
   "cell_type": "code",
   "execution_count": null,
   "id": "c8fdfbb1",
   "metadata": {},
   "outputs": [],
   "source": [
    "df_add = df_add.sort_values([\"YoY\", \"MoM\"], ascending=False, na_position=\"last\")\n",
    "df_con = df_con.sort_values([\"YoY\", \"MoM\"], ascending=False, na_position=\"last\")"
   ]
  },
  {
   "cell_type": "code",
   "execution_count": null,
   "id": "332ab328",
   "metadata": {},
   "outputs": [],
   "source": [
    "add_list[-1].stem"
   ]
  },
  {
   "cell_type": "code",
   "execution_count": null,
   "id": "7ab20296",
   "metadata": {},
   "outputs": [],
   "source": [
    "rev_m = re.search(\"\\d+-\\d+\", add_list[-1].stem)[0]"
   ]
  },
  {
   "cell_type": "code",
   "execution_count": null,
   "id": "a628d1ac",
   "metadata": {},
   "outputs": [],
   "source": [
    "type(rev_m)"
   ]
  },
  {
   "cell_type": "code",
   "execution_count": null,
   "id": "2ced1bbe",
   "metadata": {},
   "outputs": [],
   "source": [
    "rev_m_dtime = datetime.datetime.strptime(rev_m, \"%Y-%m\")"
   ]
  },
  {
   "cell_type": "code",
   "execution_count": null,
   "id": "dd78c19a",
   "metadata": {},
   "outputs": [],
   "source": [
    "previous_m = datetime.datetime.strftime(rev_m_dtime - relativedelta(months=1), \"%Y-%m\")"
   ]
  },
  {
   "cell_type": "code",
   "execution_count": null,
   "id": "16281a64",
   "metadata": {
    "scrolled": true
   },
   "outputs": [],
   "source": [
    "previous_m"
   ]
  },
  {
   "cell_type": "code",
   "execution_count": null,
   "id": "8cb201bf",
   "metadata": {},
   "outputs": [],
   "source": [
    "data_yoy_list = list(Path(data_yoy_dir).iterdir())\n",
    "df_data_yoy = pd.read_csv(data_yoy_list[-1], encoding=\"utf-8-sig\")"
   ]
  },
  {
   "cell_type": "code",
   "execution_count": null,
   "id": "1ae8a95b",
   "metadata": {},
   "outputs": [],
   "source": [
    "yoy_m = [i for i in df_data_yoy.columns if i.startswith(previous_m)][0]\n",
    "yoy_m"
   ]
  },
  {
   "cell_type": "code",
   "execution_count": null,
   "id": "01a68a4e",
   "metadata": {},
   "outputs": [],
   "source": []
  },
  {
   "cell_type": "code",
   "execution_count": null,
   "id": "2dcb6d95",
   "metadata": {},
   "outputs": [],
   "source": []
  },
  {
   "cell_type": "markdown",
   "id": "58029932",
   "metadata": {},
   "source": [
    "MoM data"
   ]
  },
  {
   "cell_type": "code",
   "execution_count": null,
   "id": "9047e298",
   "metadata": {},
   "outputs": [],
   "source": [
    "data_rev_list = list(Path(data_rev_dir).iterdir())\n",
    "data_rev_list"
   ]
  },
  {
   "cell_type": "code",
   "execution_count": null,
   "id": "09149e1f",
   "metadata": {},
   "outputs": [],
   "source": [
    "df_data_rev = pd.read_csv(data_rev_list[-1], encoding=\"utf-8-sig\", index_col=\"代號\").drop([\"名稱\"], axis=1)"
   ]
  },
  {
   "cell_type": "code",
   "execution_count": null,
   "id": "950f48e7",
   "metadata": {},
   "outputs": [],
   "source": [
    "df_data_mom = df_data_rev.pct_change(axis=\"columns\", periods=1).apply(lambda x: x*100).round(decimals=2).reset_index(level=0)"
   ]
  },
  {
   "cell_type": "code",
   "execution_count": null,
   "id": "8f5b46d3",
   "metadata": {},
   "outputs": [],
   "source": [
    "df_data_mom"
   ]
  },
  {
   "cell_type": "code",
   "execution_count": null,
   "id": "d9939bdd",
   "metadata": {},
   "outputs": [],
   "source": [
    "mom_m = [i for i in df_data_mom.columns if i.startswith(previous_m)][0]"
   ]
  },
  {
   "cell_type": "code",
   "execution_count": null,
   "id": "17de3dde",
   "metadata": {},
   "outputs": [],
   "source": [
    "mom_m"
   ]
  },
  {
   "cell_type": "code",
   "execution_count": null,
   "id": "b4f62270",
   "metadata": {},
   "outputs": [],
   "source": [
    "df_data_mom.columns"
   ]
  },
  {
   "cell_type": "code",
   "execution_count": null,
   "id": "4940a502",
   "metadata": {},
   "outputs": [],
   "source": [
    "previous_mom = df_data_mom[[\"代號\", mom_m]]"
   ]
  },
  {
   "cell_type": "code",
   "execution_count": null,
   "id": "a8110c1d",
   "metadata": {},
   "outputs": [],
   "source": [
    "previous_mom.columns = [\"代號\", \"上月MoM\"]"
   ]
  },
  {
   "cell_type": "code",
   "execution_count": null,
   "id": "a822f899",
   "metadata": {},
   "outputs": [],
   "source": [
    "df_merge_mom = df_con.merge(previous_mom, on=\"代號\", how=\"left\", indicator=False)"
   ]
  },
  {
   "cell_type": "code",
   "execution_count": null,
   "id": "f2ad9cbf",
   "metadata": {},
   "outputs": [],
   "source": [
    "df_merge_mom"
   ]
  },
  {
   "cell_type": "code",
   "execution_count": null,
   "id": "27755d8b",
   "metadata": {},
   "outputs": [],
   "source": []
  },
  {
   "cell_type": "code",
   "execution_count": null,
   "id": "647a0607",
   "metadata": {},
   "outputs": [],
   "source": [
    "# previous_yoy = df_yoy[[\"代號\", yoy_m]]\n",
    "# previous_yoy.columns = [\"代號\", \"上月YoY\"]"
   ]
  },
  {
   "cell_type": "code",
   "execution_count": null,
   "id": "39cbc3a6",
   "metadata": {},
   "outputs": [],
   "source": [
    "# df_add_yoy = df_add.merge(previous_yoy, on=\"代號\", how=\"left\", indicator=False)"
   ]
  },
  {
   "cell_type": "code",
   "execution_count": null,
   "id": "29241348",
   "metadata": {},
   "outputs": [],
   "source": [
    "# add_cols = df_add_yoy.columns.tolist()\n",
    "# add_cols"
   ]
  },
  {
   "cell_type": "code",
   "execution_count": null,
   "id": "3a06efe0",
   "metadata": {},
   "outputs": [],
   "source": [
    "# add_cols.insert(-4, add_cols[-1])"
   ]
  },
  {
   "cell_type": "code",
   "execution_count": null,
   "id": "9315a6f4",
   "metadata": {},
   "outputs": [],
   "source": [
    "# add_cols[:-1]"
   ]
  },
  {
   "cell_type": "code",
   "execution_count": null,
   "id": "6e3a3f1d",
   "metadata": {},
   "outputs": [],
   "source": [
    "# df_add_yoy = df_add_yoy[add_cols[:-1]]"
   ]
  },
  {
   "cell_type": "code",
   "execution_count": null,
   "id": "6f5e08b4",
   "metadata": {
    "scrolled": true
   },
   "outputs": [],
   "source": [
    "# df_add_yoy[:1]"
   ]
  },
  {
   "cell_type": "code",
   "execution_count": null,
   "id": "9f16a8a5",
   "metadata": {},
   "outputs": [],
   "source": []
  },
  {
   "cell_type": "code",
   "execution_count": null,
   "id": "ae733dd0",
   "metadata": {},
   "outputs": [],
   "source": [
    "def merge_previous_mom(df, df_mom):\n",
    "    previous_mom = df_mom[[\"代號\", mom_m]]\n",
    "    previous_mom.columns = [\"代號\", \"上月MoM\"]\n",
    "    df_merge_mom = df.merge(previous_mom, on=\"代號\", how=\"left\", indicator=False)\n",
    "    mom_cols = df_merge_mom.columns.tolist()\n",
    "    mom_cols.insert(-5, mom_cols[-1])\n",
    "    return df_merge_mom[mom_cols[:-1]]"
   ]
  },
  {
   "cell_type": "code",
   "execution_count": null,
   "id": "034d7a1b",
   "metadata": {},
   "outputs": [],
   "source": [
    "def merge_previous_yoy(df, df_yoy):\n",
    "    previous_yoy = df_yoy[[\"代號\", yoy_m]]\n",
    "    previous_yoy.columns = [\"代號\", \"上月YoY\"]\n",
    "    df_merge_yoy = df.merge(previous_yoy, on=\"代號\", how=\"left\", indicator=False)\n",
    "    yoy_cols = df_merge_yoy.columns.tolist()\n",
    "    yoy_cols.insert(-4, yoy_cols[-1])\n",
    "    return df_merge_yoy[yoy_cols[:-1]]"
   ]
  },
  {
   "cell_type": "code",
   "execution_count": null,
   "id": "81a24476",
   "metadata": {},
   "outputs": [],
   "source": [
    "df_add_yoy = merge_previous_yoy(df_add, df_data_yoy)\n",
    "df_con_yoy = merge_previous_yoy(df_con, df_data_yoy)"
   ]
  },
  {
   "cell_type": "code",
   "execution_count": null,
   "id": "2d1a666e",
   "metadata": {},
   "outputs": [],
   "source": []
  },
  {
   "cell_type": "code",
   "execution_count": null,
   "id": "fc161839",
   "metadata": {},
   "outputs": [],
   "source": [
    "mkdirs(xlsx_dir)"
   ]
  },
  {
   "cell_type": "code",
   "execution_count": null,
   "id": "20de5b9a",
   "metadata": {},
   "outputs": [],
   "source": [
    "xlsx_path = \"{}/{}.xlsx\".format(xlsx_dir, add_list[-1].stem)\n",
    "xlsx_path"
   ]
  },
  {
   "cell_type": "code",
   "execution_count": null,
   "id": "18eed6f4",
   "metadata": {},
   "outputs": [],
   "source": [
    "def df_to_xlsx(df, path, sht_name):\n",
    "    df.to_excel(path, sheet_name=sht_name, index=False, float_format=\"%.2f\", engine=\"openpyxl\", encoding=\"utf-8-sig\", freeze_panes=(1, 3))"
   ]
  },
  {
   "cell_type": "code",
   "execution_count": null,
   "id": "4409aa60",
   "metadata": {},
   "outputs": [],
   "source": [
    "df_to_xlsx(df_add_yoy, xlsx_path, \"新增\")"
   ]
  },
  {
   "cell_type": "code",
   "execution_count": null,
   "id": "2d9573b8",
   "metadata": {},
   "outputs": [],
   "source": [
    "wb = openpyxl.load_workbook(filename=xlsx_path)\n",
    "if rev_m in wb.sheetnames:\n",
    "    del wb[rev_m]\n",
    "wb.save(xlsx_path)\n",
    "wb.close()\n",
    "\n",
    "with pd.ExcelWriter(xlsx_path, engine=\"openpyxl\", mode=\"a\") as writer:\n",
    "    df_to_xlsx(df_con, writer, rev_m)"
   ]
  },
  {
   "cell_type": "code",
   "execution_count": null,
   "id": "3b51237b",
   "metadata": {},
   "outputs": [],
   "source": []
  },
  {
   "cell_type": "code",
   "execution_count": null,
   "id": "9c450a26",
   "metadata": {},
   "outputs": [],
   "source": []
  },
  {
   "cell_type": "code",
   "execution_count": null,
   "id": "4fc0b9c3",
   "metadata": {},
   "outputs": [],
   "source": [
    "def html_tag(element, atr, value, text):\n",
    "    return '<{} {}=\"{}\">{}</{}>'.format(element, atr, value, text, element)"
   ]
  },
  {
   "cell_type": "code",
   "execution_count": null,
   "id": "1e206528",
   "metadata": {},
   "outputs": [],
   "source": [
    "def html_colorize(x):\n",
    "    if x < 0:\n",
    "        return html_tag(\"span\", \"style\", \"color:crimson;\", \"{}%\".format(round(x)))\n",
    "    elif x > 0:\n",
    "        return html_tag(\"span\", \"style\", \"color:royalblue;\", \"{}%\".format(round(x)))\n",
    "    else:\n",
    "        return \"{}%\".format(round(x))"
   ]
  },
  {
   "cell_type": "code",
   "execution_count": null,
   "id": "5189a486",
   "metadata": {},
   "outputs": [],
   "source": [
    "html_colorize(-5.78)"
   ]
  },
  {
   "cell_type": "code",
   "execution_count": null,
   "id": "7175a098",
   "metadata": {},
   "outputs": [],
   "source": [
    "html_colorize(0)"
   ]
  },
  {
   "cell_type": "markdown",
   "id": "19d06316",
   "metadata": {},
   "source": [
    "### 篩選"
   ]
  },
  {
   "cell_type": "code",
   "execution_count": null,
   "id": "e1d8daa2",
   "metadata": {},
   "outputs": [],
   "source": [
    "df_add_yoy_c = df_add_yoy.copy()"
   ]
  },
  {
   "cell_type": "code",
   "execution_count": null,
   "id": "7f0faa21",
   "metadata": {},
   "outputs": [],
   "source": [
    "df_add_yoy_c[:1]"
   ]
  },
  {
   "cell_type": "code",
   "execution_count": null,
   "id": "1fea2b52",
   "metadata": {},
   "outputs": [],
   "source": [
    "df_add_yoy_c[\"yoy_chg\"] = df_add_yoy_c[\"YoY\"] - df_add_yoy_c[\"上月YoY\"]"
   ]
  },
  {
   "cell_type": "code",
   "execution_count": null,
   "id": "9a866dec",
   "metadata": {},
   "outputs": [],
   "source": [
    "df_add_yoy_c[\"YoY_html\"] = df_add_yoy_c[\"YoY\"].apply(html_colorize)"
   ]
  },
  {
   "cell_type": "code",
   "execution_count": null,
   "id": "07f84466",
   "metadata": {},
   "outputs": [],
   "source": [
    "df_add_yoy_c[\"YoY_html\"]"
   ]
  },
  {
   "cell_type": "code",
   "execution_count": null,
   "id": "630b8277",
   "metadata": {},
   "outputs": [],
   "source": [
    "df_add_yoy_c[\"名稱代號\"] = df_add_yoy_c[\"名稱\"] + \" \" + df_add_yoy_c[\"代號\"].astype(str) + \" YoY \" + df_add_yoy_c[\"YoY_html\"]"
   ]
  },
  {
   "cell_type": "code",
   "execution_count": null,
   "id": "23731746",
   "metadata": {},
   "outputs": [],
   "source": [
    "# df_add_yoy_c[\"名稱代號\"] = df_add_yoy_c[\"名稱\"] + \" \" + df_add_yoy_c[\"代號\"].astype(str) + \" YoY \" + df_add_yoy_c[\"YoY\"].round(0).astype(int).astype(str) + \"%\""
   ]
  },
  {
   "cell_type": "code",
   "execution_count": null,
   "id": "e88ed350",
   "metadata": {},
   "outputs": [],
   "source": [
    "df_add_yoy_c[\"名稱代號\"] = df_add_yoy_c[\"名稱代號\"].str.replace(\" -\", \"-\", regex=False)"
   ]
  },
  {
   "cell_type": "code",
   "execution_count": null,
   "id": "1f9bb3b1",
   "metadata": {},
   "outputs": [],
   "source": [
    "df_add_yoy_c[\"名稱代號\"]"
   ]
  },
  {
   "cell_type": "code",
   "execution_count": null,
   "id": "a06d9502",
   "metadata": {
    "scrolled": true
   },
   "outputs": [],
   "source": [
    "yoy_chg_p_rank = df_add_yoy_c[df_add_yoy_c[\"yoy_chg\"] > 0].sort_values(by=[\"yoy_chg\"], ascending=False, na_position=\"last\")[\"名稱代號\"].tolist()"
   ]
  },
  {
   "cell_type": "code",
   "execution_count": null,
   "id": "f63371ea",
   "metadata": {},
   "outputs": [],
   "source": [
    "yoy_chg_n_rank = df_add_yoy_c[df_add_yoy_c[\"yoy_chg\"] < 0].sort_values(by=[\"yoy_chg\"], ascending=True, na_position=\"last\")[\"名稱代號\"].tolist()"
   ]
  },
  {
   "cell_type": "code",
   "execution_count": null,
   "id": "6595ccf2",
   "metadata": {},
   "outputs": [],
   "source": [
    "yoy_chg_p_rank"
   ]
  },
  {
   "cell_type": "code",
   "execution_count": null,
   "id": "64973d3c",
   "metadata": {},
   "outputs": [],
   "source": [
    "yoy_chg_n_rank"
   ]
  },
  {
   "cell_type": "code",
   "execution_count": null,
   "id": "11d75ce9",
   "metadata": {},
   "outputs": [],
   "source": [
    "if not df_add_yoy_c[(df_add_yoy_c[\"上月YoY\"] < 0) & (df_add_yoy_c[\"YoY\"] > 0)].empty:\n",
    "    df_yoy_n_to_p = df_add_yoy_c[(df_add_yoy_c[\"上月YoY\"] < 0) & (df_add_yoy_c[\"YoY\"] > 0)]\n",
    "    yoy_n_to_p = df_yoy_n_to_p.sort_values(by=[\"yoy_chg\"], ascending=False, na_position=\"last\")[\"名稱代號\"].tolist()"
   ]
  },
  {
   "cell_type": "code",
   "execution_count": null,
   "id": "417c5433",
   "metadata": {},
   "outputs": [],
   "source": [
    "if not df_add_yoy_c[(df_add_yoy_c[\"上月YoY\"] > 0) & (df_add_yoy_c[\"YoY\"] < 0)].empty:\n",
    "    df_yoy_p_to_n = df_add_yoy_c[(df_add_yoy_c[\"上月YoY\"] > 0) & (df_add_yoy_c[\"YoY\"] < 0)]\n",
    "    yoy_p_to_n = df_yoy_p_to_n.sort_values(by=[\"yoy_chg\"], ascending=True, na_position=\"last\")[\"名稱代號\"].tolist()"
   ]
  },
  {
   "cell_type": "code",
   "execution_count": null,
   "id": "cda9f3fb",
   "metadata": {},
   "outputs": [],
   "source": []
  },
  {
   "cell_type": "code",
   "execution_count": null,
   "id": "05454eb5",
   "metadata": {},
   "outputs": [],
   "source": [
    "yoy_rank = df_add_yoy_c.sort_values(by=[\"YoY\"], ascending=False, na_position=\"last\")[\"名稱代號\"].tolist()"
   ]
  },
  {
   "cell_type": "code",
   "execution_count": null,
   "id": "84ba3f36",
   "metadata": {},
   "outputs": [],
   "source": [
    "yoy_rank"
   ]
  },
  {
   "cell_type": "code",
   "execution_count": null,
   "id": "940349d5",
   "metadata": {},
   "outputs": [],
   "source": [
    "list(reversed(yoy_rank))"
   ]
  },
  {
   "cell_type": "code",
   "execution_count": null,
   "id": "48a5c470",
   "metadata": {},
   "outputs": [],
   "source": []
  },
  {
   "cell_type": "code",
   "execution_count": null,
   "id": "84672a6a",
   "metadata": {},
   "outputs": [],
   "source": []
  },
  {
   "cell_type": "code",
   "execution_count": null,
   "id": "857ff242",
   "metadata": {},
   "outputs": [],
   "source": []
  },
  {
   "cell_type": "code",
   "execution_count": null,
   "id": "06bc95ae",
   "metadata": {},
   "outputs": [],
   "source": []
  },
  {
   "cell_type": "code",
   "execution_count": null,
   "id": "096d4dfc",
   "metadata": {},
   "outputs": [],
   "source": [
    "def pickup_filter(list_f, pick_num):\n",
    "    if not list_f:\n",
    "        return None\n",
    "    if len(list_f) <= pick_num*2:\n",
    "        pick = int(round(len(list_f)/3))\n",
    "        return \", \".join(list_f[:pick])\n",
    "    else:\n",
    "        return \", \".join(list_f[:pick_num])   "
   ]
  },
  {
   "cell_type": "code",
   "execution_count": null,
   "id": "7391c1c1",
   "metadata": {},
   "outputs": [],
   "source": [
    "yoy_rank_str = pickup_filter(yoy_rank, 7)\n",
    "yoy_rank_r_str = pickup_filter(list(reversed(yoy_rank)), 7)"
   ]
  },
  {
   "cell_type": "code",
   "execution_count": null,
   "id": "000c2908",
   "metadata": {},
   "outputs": [],
   "source": [
    "yoy_chg_p_rank_str = pickup_filter(yoy_chg_p_rank, 7)\n",
    "yoy_chg_n_rank_str = pickup_filter(yoy_chg_n_rank, 7)"
   ]
  },
  {
   "cell_type": "code",
   "execution_count": null,
   "id": "4390b229",
   "metadata": {},
   "outputs": [],
   "source": [
    "if not df_add_yoy_c[(df_add_yoy_c[\"上月YoY\"] < 0) & (df_add_yoy_c[\"YoY\"] > 0)].empty:\n",
    "    df_yoy_n_to_p = df_add_yoy_c[(df_add_yoy_c[\"上月YoY\"] < 0) & (df_add_yoy_c[\"YoY\"] > 0)]\n",
    "    yoy_n_to_p = df_yoy_n_to_p.sort_values(by=[\"yoy_chg\"], ascending=False, na_position=\"last\")[\"名稱代號\"].tolist()\n",
    "else:\n",
    "    yoy_n_to_p = []\n",
    "\n",
    "if not df_add_yoy_c[(df_add_yoy_c[\"上月YoY\"] > 0) & (df_add_yoy_c[\"YoY\"] < 0)].empty:\n",
    "    df_yoy_p_to_n = df_add_yoy_c[(df_add_yoy_c[\"上月YoY\"] > 0) & (df_add_yoy_c[\"YoY\"] < 0)]\n",
    "    yoy_p_to_n = df_yoy_p_to_n.sort_values(by=[\"yoy_chg\"], ascending=True, na_position=\"last\")[\"名稱代號\"].tolist()\n",
    "else:\n",
    "    yoy_p_to_n = []"
   ]
  },
  {
   "cell_type": "code",
   "execution_count": null,
   "id": "24b6dce9",
   "metadata": {},
   "outputs": [],
   "source": [
    "yoy_n_to_p"
   ]
  },
  {
   "cell_type": "code",
   "execution_count": null,
   "id": "d49d99bb",
   "metadata": {},
   "outputs": [],
   "source": [
    "rank_list = [yoy_rank, list(reversed(yoy_rank)), yoy_chg_p_rank, yoy_chg_n_rank, yoy_n_to_p, yoy_p_to_n]\n",
    "rank_list"
   ]
  },
  {
   "cell_type": "code",
   "execution_count": null,
   "id": "fb125f8e",
   "metadata": {},
   "outputs": [],
   "source": [
    "yoy_rank_str, yoy_rank_r_str, yoy_chg_p_rank_str, yoy_chg_n_rank_str, yoy_n_to_p_str, yoy_p_to_n_str = \\\n",
    "    [pickup_filter(x, 7) for x in rank_list]"
   ]
  },
  {
   "cell_type": "code",
   "execution_count": null,
   "id": "bedd0c38",
   "metadata": {
    "scrolled": true
   },
   "outputs": [],
   "source": [
    "print(yoy_chg_p_rank_str)\n",
    "print(yoy_chg_n_rank_str)\n",
    "print(yoy_n_to_p_str)\n",
    "print(yoy_p_to_n_str)"
   ]
  },
  {
   "cell_type": "code",
   "execution_count": null,
   "id": "c542e017",
   "metadata": {},
   "outputs": [],
   "source": []
  },
  {
   "cell_type": "code",
   "execution_count": null,
   "id": "62962370",
   "metadata": {},
   "outputs": [],
   "source": []
  },
  {
   "cell_type": "code",
   "execution_count": null,
   "id": "dd951d1a",
   "metadata": {},
   "outputs": [],
   "source": []
  },
  {
   "cell_type": "markdown",
   "id": "d0e2265b",
   "metadata": {},
   "source": [
    "mail text html"
   ]
  },
  {
   "cell_type": "code",
   "execution_count": null,
   "id": "36ca1731",
   "metadata": {},
   "outputs": [],
   "source": [
    "mail_text =\"\"\"\n",
    "<html>\\\n",
    "### 測試中<br/>\\\n",
    "<br/>\\\n",
    "月營收: {}<br/>\\\n",
    "<br/>\\\n",
    "更新時間: {}<br/>\\\n",
    "上次更新時間: {}<br/>\\\n",
    "<br/>\\\n",
    "YoY優: {}<br/>\\\n",
    "YoY差: {}<br/>\\\n",
    "<br/>\\\n",
    "YoY跳升: {}<br/>\\\n",
    "YoY下降: {}<br/>\\\n",
    "<br/>\\\n",
    "YoY轉正: {}<br/>\\\n",
    "YoY轉負: {}<br/>\\\n",
    "\"\"\".format(rev_m, update_text, previous_text, yoy_rank_str, yoy_rank_r_str, \\\n",
    "           yoy_chg_p_rank_str, yoy_chg_n_rank_str, yoy_n_to_p_str, yoy_p_to_n_str)"
   ]
  },
  {
   "cell_type": "code",
   "execution_count": null,
   "id": "725cbdb5",
   "metadata": {},
   "outputs": [],
   "source": [
    "soup_mail = BS(mail_text, \"lxml\")"
   ]
  },
  {
   "cell_type": "code",
   "execution_count": null,
   "id": "18b7c15d",
   "metadata": {},
   "outputs": [],
   "source": [
    "with open(\"R:/test.html\", \"w\", encoding=\"utf-8\") as save:\n",
    "    save.write(soup_mail.prettify())"
   ]
  },
  {
   "cell_type": "code",
   "execution_count": null,
   "id": "25ec057d",
   "metadata": {},
   "outputs": [],
   "source": [
    "mail_html = \"\"\"<html>\n",
    "<head></head>\n",
    "<body><p></p></body>\n",
    "</html>\"\"\""
   ]
  },
  {
   "cell_type": "code",
   "execution_count": null,
   "id": "3c7595d7",
   "metadata": {},
   "outputs": [],
   "source": [
    "soup_mail = BS(mail_html, \"lxml\")"
   ]
  },
  {
   "cell_type": "code",
   "execution_count": null,
   "id": "96f0867c",
   "metadata": {},
   "outputs": [],
   "source": [
    "soup_mail"
   ]
  },
  {
   "cell_type": "code",
   "execution_count": null,
   "id": "69fd7174",
   "metadata": {},
   "outputs": [],
   "source": []
  },
  {
   "cell_type": "code",
   "execution_count": null,
   "id": "41ab35ed",
   "metadata": {},
   "outputs": [],
   "source": [
    "soup_mail.p.append(\"### 測試中\")\n",
    "soup_mail.p.append(soup_mail.new_tag(\"br\"))\n",
    "soup_mail.p.append(\"月營收: {}\".format(rev_m))\n",
    "soup_mail.p.append(soup_mail.new_tag(\"br\"))\n",
    "soup_mail.p.append(\"更新時間: {}\".format(update_text))\n",
    "soup_mail.p.append(\"上次更新時間: {}\".format(previous_text))\n",
    "soup_mail.p.append(soup_mail.new_tag(\"br\"))\n",
    "soup_mail.p.append(\"YoY優: {}\".format(yoy_rank_str))\n",
    "soup_mail.p.append(\"YoY差: {}\".format(yoy_rank_r_str))\n",
    "soup_mail.p.append(soup_mail.new_tag(\"br\"))\n",
    "soup_mail.p.append(\"YoY跳升: {}\".format(yoy_chg_p_rank_str))\n",
    "soup_mail.p.append(\"YoY下降: {}\".format(yoy_chg_n_rank_str))\n",
    "soup_mail.p.append(soup_mail.new_tag(\"br\"))\n",
    "soup_mail.p.append(\"YoY轉正: {}\".format(yoy_n_to_p_str))\n",
    "soup_mail.p.append(\"YoY轉負: {}\".format(yoy_p_to_n_str))"
   ]
  },
  {
   "cell_type": "code",
   "execution_count": null,
   "id": "1b292085",
   "metadata": {},
   "outputs": [],
   "source": [
    "soup_mail"
   ]
  },
  {
   "cell_type": "code",
   "execution_count": null,
   "id": "645bf6ab",
   "metadata": {},
   "outputs": [],
   "source": [
    "BS(soup_mail.prettify(), \"html.parser\")"
   ]
  },
  {
   "cell_type": "code",
   "execution_count": null,
   "id": "94df7a18",
   "metadata": {},
   "outputs": [],
   "source": [
    "with open(\"R:/test.html\", \"w\", encoding=\"utf-8\") as save:\n",
    "    save.write(soup_mail.prettify())"
   ]
  },
  {
   "cell_type": "code",
   "execution_count": null,
   "id": "245bf310",
   "metadata": {},
   "outputs": [],
   "source": []
  },
  {
   "cell_type": "markdown",
   "id": "92fe147b",
   "metadata": {},
   "source": [
    "mail text"
   ]
  },
  {
   "cell_type": "code",
   "execution_count": null,
   "id": "c7c4e5d0",
   "metadata": {},
   "outputs": [],
   "source": [
    "add_list = list(Path(add_dir).iterdir())"
   ]
  },
  {
   "cell_type": "code",
   "execution_count": null,
   "id": "d912f84b",
   "metadata": {},
   "outputs": [],
   "source": [
    "add_list[-1].stem[-15:]"
   ]
  },
  {
   "cell_type": "code",
   "execution_count": null,
   "id": "3e25572e",
   "metadata": {},
   "outputs": [],
   "source": [
    "add_list[-1].stem[:13]"
   ]
  },
  {
   "cell_type": "code",
   "execution_count": null,
   "id": "1bd42812",
   "metadata": {},
   "outputs": [],
   "source": [
    "rev_m = re.search(\"\\d+-\\d+\", add_list[-1].stem)[0]\n",
    "rev_m"
   ]
  },
  {
   "cell_type": "code",
   "execution_count": null,
   "id": "eb320d41",
   "metadata": {},
   "outputs": [],
   "source": [
    "update_time = datetime.datetime.strptime(add_list[-1].stem[-15:], \"%Y-%m-%d-%H%M\")\n",
    "update_text = datetime.datetime.strftime(update_time, \"%Y-%m-%d %H:%M\")"
   ]
  },
  {
   "cell_type": "code",
   "execution_count": null,
   "id": "fd3db3c5",
   "metadata": {},
   "outputs": [],
   "source": [
    "update_time = datetime.datetime.strptime(add_list[-1].stem[-15:], \"%Y-%m-%d-%H%M\")\n",
    "update_text = datetime.datetime.strftime(update_time, \"%Y-%m-%d %H:%M\")\n",
    "\n",
    "if add_list[-1].stem[:13] != add_list[-2].stem[:13]:\n",
    "    previous_text = \"無\"\n",
    "else:\n",
    "    previous_time = datetime.datetime.strptime(add_list[-2].stem[-15:], \"%Y-%m-%d-%H%M\")\n",
    "    previous_text = datetime.datetime.strftime(update_time, \"%Y-%m-%d %H:%M\")"
   ]
  },
  {
   "cell_type": "code",
   "execution_count": null,
   "id": "72e02809",
   "metadata": {},
   "outputs": [],
   "source": [
    "previous_text"
   ]
  },
  {
   "cell_type": "code",
   "execution_count": null,
   "id": "bda8df0a",
   "metadata": {},
   "outputs": [],
   "source": []
  },
  {
   "cell_type": "code",
   "execution_count": null,
   "id": "6c41d73b",
   "metadata": {},
   "outputs": [],
   "source": [
    "mail_text =\"\"\"\n",
    "### 測試中\n",
    "\n",
    "月營收: {}\n",
    "\n",
    "更新時間: {}\n",
    "上次更新時間: {}\n",
    "\"\"\".format(rev_m, update_text, previous_text)\n",
    "mail_text"
   ]
  },
  {
   "cell_type": "code",
   "execution_count": null,
   "id": "6a110ec9",
   "metadata": {},
   "outputs": [],
   "source": [
    "mail_text =\"\"\"\n",
    "### 測試中\n",
    "\n",
    "月營收: {}\n",
    "\n",
    "更新時間: {}\n",
    "上次更新時間: {}\n",
    "\n",
    "YoY優: {}\n",
    "YoY差: {}\n",
    "\n",
    "YoY跳升: {}\n",
    "YoY下降: {}\n",
    "\n",
    "YoY轉正: {}\n",
    "YoY轉負: {}\n",
    "\"\"\".format(rev_m, update_text, previous_text, yoy_rank_str, yoy_rank_r_str, yoy_chg_p_rank_str, yoy_chg_n_rank_str, yoy_n_to_p_str, yoy_p_to_n_str)\n",
    "mail_text"
   ]
  },
  {
   "cell_type": "code",
   "execution_count": null,
   "id": "662655ca",
   "metadata": {},
   "outputs": [],
   "source": [
    "def mail(attach_file=None):\n",
    "    to_list = config[\"SMTP\"][\"to\"].replace(\" \", \"\").split(\",\")\n",
    "    ccto_list = config[\"SMTP\"][\"ccto\"].replace(\" \", \"\").split(\",\")\n",
    "    bccto_list = config[\"SMTP\"][\"bccto\"].replace(\" \", \"\").split(\",\")\n",
    "\n",
    "    # Import the email modules\n",
    "    from email.mime.multipart import MIMEMultipart\n",
    "    from email.mime.text import MIMEText\n",
    "    from email.mime.base import MIMEBase\n",
    "    from email import encoders\n",
    "\n",
    "    # Define email addresses to use\n",
    "    addr_to = \",\".join(to_list)    # 注意，不是分號\n",
    "    addr_cc = \",\".join(ccto_list)\n",
    "    # addr_bcc = \",\".join(bccto_list)\n",
    "    addr_from = config[\"SMTP\"][\"from\"]\n",
    "\n",
    "    receive = to_list\n",
    "    receive.extend(ccto_list)\n",
    "    receive.extend(bccto_list)\n",
    "\n",
    "    # Define SMTP email server details\n",
    "    smtp_server = config[\"SMTP\"][\"smtp_server\"]\n",
    "    smtp_user   = config[\"SMTP\"][\"smtp_user\"]\n",
    "    smtp_pass   = config[\"SMTP\"][\"smtp_pass\"]\n",
    "\n",
    "    # Construct email\n",
    "    msg = MIMEMultipart(\"alternative\")\n",
    "    \n",
    "    msg[\"To\"] = addr_to\n",
    "    msg[\"CC\"] = addr_cc\n",
    "    msg[\"From\"] = addr_from\n",
    "    msg[\"Subject\"] = \"{}月營收-{}\".format(attach_file.stem[11:13], re.search(\"\\d{4}-\\d{2}-\\d{2}\", attach_file.stem)[0])\n",
    "\n",
    "    msg.attach(MIMEText(mail_text, \"plain\"))\n",
    "    \n",
    "    part = MIMEBase(\"application\", \"octet-stream\")\n",
    "    part.set_payload(open(file, \"rb\").read())\n",
    "    encoders.encode_base64(part)\n",
    "    part.add_header(\"Content-Disposition\", \"attachment; filename={}\".format(attach_file.name))\n",
    "    msg.attach(part)    \n",
    "\n",
    "    # Attach parts into message container.\n",
    "    # According to RFC 2046, the last part of a MIMEMultipart message, in this case\n",
    "    # the HTML message, is best and preferred.\n",
    "    msg.attach(part)\n",
    "\n",
    "    # Send the message via an SMTP server\n",
    "    s = smtplib.SMTP_SSL(smtp_server, 465)\n",
    "    s.ehlo()\n",
    "    s.login(smtp_user,smtp_pass)\n",
    "    s.sendmail(addr_from, receive, msg.as_string())\n",
    "    s.quit()\n",
    "    print(\"Email sent!\\n\")"
   ]
  },
  {
   "cell_type": "code",
   "execution_count": null,
   "id": "a0ab0c73",
   "metadata": {},
   "outputs": [],
   "source": [
    "xlsx_list = list(Path(xlsx_dir).iterdir())"
   ]
  },
  {
   "cell_type": "code",
   "execution_count": null,
   "id": "3eff14db",
   "metadata": {},
   "outputs": [],
   "source": [
    "xlsx_list[-1].stem[11:13]"
   ]
  },
  {
   "cell_type": "code",
   "execution_count": null,
   "id": "3bc64d6f",
   "metadata": {},
   "outputs": [],
   "source": [
    "re.search(\"\\d{4}-\\d{2}\", xlsx_list[-1].stem)[0]"
   ]
  },
  {
   "cell_type": "code",
   "execution_count": null,
   "id": "611e3bda",
   "metadata": {},
   "outputs": [],
   "source": [
    "re.search(\"\\d{4}-\\d{2}-\\d{2}\", xlsx_list[-1].stem)[0]"
   ]
  },
  {
   "cell_type": "code",
   "execution_count": null,
   "id": "55edcfcb",
   "metadata": {},
   "outputs": [],
   "source": [
    "xlsx_list[-1].stem[-10]"
   ]
  },
  {
   "cell_type": "code",
   "execution_count": null,
   "id": "6275dc10",
   "metadata": {},
   "outputs": [],
   "source": [
    "attachment = xlsx_list[-1]"
   ]
  },
  {
   "cell_type": "code",
   "execution_count": null,
   "id": "291d7eb2",
   "metadata": {},
   "outputs": [],
   "source": [
    "mail(xlsx_list[-1])"
   ]
  },
  {
   "cell_type": "code",
   "execution_count": null,
   "id": "74173825",
   "metadata": {},
   "outputs": [],
   "source": []
  },
  {
   "cell_type": "code",
   "execution_count": null,
   "id": "2e8159ac",
   "metadata": {},
   "outputs": [],
   "source": []
  },
  {
   "cell_type": "code",
   "execution_count": null,
   "id": "c8fe197a",
   "metadata": {},
   "outputs": [],
   "source": []
  },
  {
   "cell_type": "code",
   "execution_count": null,
   "id": "662d95b9",
   "metadata": {},
   "outputs": [],
   "source": []
  },
  {
   "cell_type": "code",
   "execution_count": null,
   "id": "2de48c92",
   "metadata": {},
   "outputs": [],
   "source": []
  },
  {
   "cell_type": "code",
   "execution_count": null,
   "id": "994886d7",
   "metadata": {},
   "outputs": [],
   "source": []
  },
  {
   "cell_type": "markdown",
   "id": "fdee94e1",
   "metadata": {},
   "source": [
    "一堆月營收上市櫃合併"
   ]
  },
  {
   "cell_type": "code",
   "execution_count": 16,
   "id": "d1568a91",
   "metadata": {},
   "outputs": [],
   "source": [
    "def data_date(x):\n",
    "    match = re.search(\"(\\d+)/(\\d+)\", x)\n",
    "    data_Y = int(match[1]) + 1911\n",
    "    data_m = int(match[2])\n",
    "    return datetime.datetime(data_Y, data_m, 1) + relativedelta(months=1) - datetime.timedelta(days=1)"
   ]
  },
  {
   "cell_type": "code",
   "execution_count": 17,
   "id": "87419a59",
   "metadata": {},
   "outputs": [
    {
     "data": {
      "text/plain": [
       "WindowsPath('csv/past/m-rev-2022-08-sii.csv')"
      ]
     },
     "execution_count": 17,
     "metadata": {},
     "output_type": "execute_result"
    }
   ],
   "source": [
    "past_list = list(Path(\"./csv/past\").iterdir())\n",
    "past_list[-1]"
   ]
  },
  {
   "cell_type": "code",
   "execution_count": 18,
   "id": "872ae094",
   "metadata": {},
   "outputs": [],
   "source": [
    "past_sii = list(Path(\"./csv/past\").glob(\"*sii*\"))"
   ]
  },
  {
   "cell_type": "code",
   "execution_count": 19,
   "id": "a2850e8b",
   "metadata": {},
   "outputs": [],
   "source": [
    "past_otc = list(Path(\"./csv/past\").glob(\"*-otc*\"))"
   ]
  },
  {
   "cell_type": "code",
   "execution_count": 20,
   "id": "ce790d0b",
   "metadata": {},
   "outputs": [
    {
     "data": {
      "text/plain": [
       "(2, 2)"
      ]
     },
     "execution_count": 20,
     "metadata": {},
     "output_type": "execute_result"
    }
   ],
   "source": [
    "len(past_sii), len(past_otc)"
   ]
  },
  {
   "cell_type": "code",
   "execution_count": 21,
   "id": "efb1e6d9",
   "metadata": {},
   "outputs": [],
   "source": [
    "past_zip = [list(a) for a in zip(past_sii, past_otc)]"
   ]
  },
  {
   "cell_type": "code",
   "execution_count": 22,
   "id": "3ca6e3c7",
   "metadata": {},
   "outputs": [],
   "source": [
    "def past_concat(df_path):\n",
    "    dfs = [pd.read_csv(path, encoding=\"utf-8-sig\") for path in df_path]\n",
    "    df_c = pd.concat(dfs, axis=0, join=\"outer\", ignore_index=True, copy=True)\n",
    "    df_cols = [\"出表日期\", \"資料年月\", \"代號\", \"名稱\", \"產業\", \"月營收\", \"上月營收\", \"去年當月營收\", \"MoM\", \"YoY\", \"累計營收\", \"去年累計\", \"累計YoY\", \"備註\"]\n",
    "    df_c.columns = df_cols\n",
    "    drop_cols = [\"出表日期\", \"上月營收\", \"去年當月營收\", \"去年累計\"]\n",
    "    df_c.drop(drop_cols, axis=1, inplace=True)\n",
    "    df_c=df_c.drop_duplicates()\n",
    "    df_c[\"資料年月\"] = df_c[\"資料年月\"].apply(data_date)\n",
    "    data_date_str = re.search(\"\\d+-\\d+\", df_path[0].name)[0]\n",
    "    concat_path = \"{}/m-rev-{}.csv\".format(past_all_dir, data_date_str)\n",
    "    df_c.to_csv(concat_path, index=False, encoding=\"utf-8-sig\")"
   ]
  },
  {
   "cell_type": "code",
   "execution_count": 23,
   "id": "9288aafa",
   "metadata": {},
   "outputs": [],
   "source": [
    "a = list(map(past_concat, past_zip))"
   ]
  },
  {
   "cell_type": "code",
   "execution_count": null,
   "id": "3c7b7416",
   "metadata": {},
   "outputs": [],
   "source": []
  },
  {
   "cell_type": "code",
   "execution_count": null,
   "id": "950b712d",
   "metadata": {},
   "outputs": [],
   "source": []
  },
  {
   "cell_type": "markdown",
   "id": "3ad0e35f",
   "metadata": {},
   "source": [
    "一大堆合併到一張表"
   ]
  },
  {
   "cell_type": "code",
   "execution_count": 24,
   "id": "a2880268",
   "metadata": {},
   "outputs": [],
   "source": [
    "past_all = list(Path(\"./csv/past_all\").iterdir())"
   ]
  },
  {
   "cell_type": "code",
   "execution_count": 25,
   "id": "77c7c606",
   "metadata": {},
   "outputs": [],
   "source": [
    "past_all.sort()"
   ]
  },
  {
   "cell_type": "code",
   "execution_count": 26,
   "id": "4c93644a",
   "metadata": {},
   "outputs": [
    {
     "data": {
      "text/plain": [
       "WindowsPath('csv/past_all/m-rev-2016-01.csv')"
      ]
     },
     "execution_count": 26,
     "metadata": {},
     "output_type": "execute_result"
    }
   ],
   "source": [
    "df_t_0_path = past_all[0]\n",
    "df_t_0_path"
   ]
  },
  {
   "cell_type": "code",
   "execution_count": 27,
   "id": "bcebce7d",
   "metadata": {},
   "outputs": [
    {
     "data": {
      "text/plain": [
       "WindowsPath('csv/past_all/m-rev-2022-08.csv')"
      ]
     },
     "execution_count": 27,
     "metadata": {},
     "output_type": "execute_result"
    }
   ],
   "source": [
    "past_all[-1]"
   ]
  },
  {
   "cell_type": "code",
   "execution_count": 28,
   "id": "e8ab8e30",
   "metadata": {},
   "outputs": [],
   "source": [
    "df_t_s = past_all[1:]"
   ]
  },
  {
   "cell_type": "code",
   "execution_count": 29,
   "id": "dae97d0f",
   "metadata": {},
   "outputs": [],
   "source": [
    "def merge_data(dir_name, col_name):\n",
    "    for file in list(Path(\"./csv/data/{}\".format(dir_name)).iterdir()):\n",
    "        file.unlink()\n",
    "        \n",
    "    df_m_0 = df_m_pick(df_t_0_path, col_name)\n",
    "    df_m_0_path = \"./csv/data/{}/m-rev-data-{}-{}.csv\".format(dir_name, dir_name, df_m_0.columns[-1])\n",
    "    df_m_0.to_csv(df_m_0_path, index=False, encoding=\"utf-8-sig\")\n",
    "    \n",
    "    for df_t in df_t_s:\n",
    "        df_temp_0_path = list(Path(\"./csv/data/{}\".format(dir_name)).iterdir())[-1]\n",
    "        df_temp_0 = pd.read_csv(df_temp_0_path, encoding=\"utf-8-sig\")\n",
    "    #     print(df_temp_0_path, df_temp_0.shape)\n",
    "\n",
    "        df_temp_r = df_m_pick(df_t, col_name)\n",
    "        df_temp_m = pd.merge(df_temp_0, df_temp_r, on=[\"代號\", \"名稱\"], how=\"outer\").drop_duplicates()\n",
    "    #     print(df_t, df_temp_r.shape)\n",
    "\n",
    "#         df_temp_m = df_temp_m.drop_duplicates()\n",
    "\n",
    "    #     print(df_temp_m.shape)\n",
    "        df_temp_m_path = \"./csv/data/{}/m-rev-data-{}-{}.csv\".format(dir_name, dir_name, df_temp_m.columns[-1])\n",
    "        df_temp_m.to_csv(df_temp_m_path, index=False, encoding=\"utf-8-sig\")\n",
    "\n",
    "#         print(df_temp_0.shape, df_temp_r.shape, df_temp_m.shape)\n",
    "#         print(\"{} done.\\n\".format(df_temp_m.columns[-1]))\n",
    "        \n",
    "    for file in list(Path(\"./csv/data/{}\".format(dir_name)).iterdir())[:-1]:\n",
    "        file.unlink()"
   ]
  },
  {
   "cell_type": "code",
   "execution_count": 30,
   "id": "e0e78272",
   "metadata": {},
   "outputs": [],
   "source": [
    "merge_data(\"rev\", \"月營收\")\n",
    "merge_data(\"yoy\", \"YoY\")\n",
    "merge_data(\"cum-rev\", \"累計營收\")\n",
    "merge_data(\"cum-yoy\", \"累計YoY\")"
   ]
  },
  {
   "cell_type": "markdown",
   "id": "41931a3b",
   "metadata": {},
   "source": [
    "去除重複"
   ]
  },
  {
   "cell_type": "code",
   "execution_count": 31,
   "id": "9e0ddc2b",
   "metadata": {},
   "outputs": [],
   "source": [
    "def data_drop_dup(dir_name):\n",
    "    path_rev = list(Path(\"./csv/data/{}\".format(dir_name)).iterdir())[-1]\n",
    "    df = pd.read_csv(path_rev, encoding=\"utf-8-sig\")\n",
    "    df_group = df.groupby(by=[\"代號\"]).sum()\n",
    "    df_name_last = df[[\"代號\", \"名稱\"]].drop_duplicates(subset=\"代號\", keep=\"last\")\n",
    "    df_data = pd.merge(df_group, df_name_last, on=[\"代號\"], how=\"outer\")\n",
    "    df_data_cols = df_data.columns[:-1].insert(1, \"名稱\")\n",
    "    df_data_fix = df_data[df_data_cols]\n",
    "    df_data_fix.to_csv(path_rev, index=False, encoding=\"utf-8-sig\")"
   ]
  },
  {
   "cell_type": "code",
   "execution_count": 32,
   "id": "bfb847d4",
   "metadata": {},
   "outputs": [],
   "source": [
    "dir_name_list = [\"rev\", \"yoy\", \"cum-rev\", \"cum-yoy\"]"
   ]
  },
  {
   "cell_type": "code",
   "execution_count": 33,
   "id": "b27b8eda",
   "metadata": {},
   "outputs": [],
   "source": [
    "for file in dir_name_list:\n",
    "    data_drop_dup(file)"
   ]
  },
  {
   "cell_type": "code",
   "execution_count": null,
   "id": "59ea6f2b",
   "metadata": {},
   "outputs": [],
   "source": []
  },
  {
   "cell_type": "markdown",
   "id": "87dd770a",
   "metadata": {},
   "source": [
    "### 歷史比較"
   ]
  },
  {
   "cell_type": "markdown",
   "id": "3a12d0dd",
   "metadata": {},
   "source": [
    "營收"
   ]
  },
  {
   "cell_type": "code",
   "execution_count": null,
   "id": "dbf73c80",
   "metadata": {},
   "outputs": [],
   "source": [
    "df_all_path = list(Path(concat_dir).iterdir())[-1]"
   ]
  },
  {
   "cell_type": "code",
   "execution_count": null,
   "id": "974b1c0f",
   "metadata": {},
   "outputs": [],
   "source": [
    "df_last = df_m_pick(df_all_path, \"月營收\")"
   ]
  },
  {
   "cell_type": "code",
   "execution_count": null,
   "id": "344af226",
   "metadata": {},
   "outputs": [],
   "source": [
    "df_last.shape"
   ]
  },
  {
   "cell_type": "code",
   "execution_count": null,
   "id": "f3401562",
   "metadata": {},
   "outputs": [],
   "source": [
    "df_r_path = list(Path(data_rev_dir).iterdir())[-1]"
   ]
  },
  {
   "cell_type": "code",
   "execution_count": null,
   "id": "ec361f79",
   "metadata": {},
   "outputs": [],
   "source": [
    "df_r = pd.read_csv(df_r_path, encoding=\"utf-8-sig\")"
   ]
  },
  {
   "cell_type": "code",
   "execution_count": null,
   "id": "eb84b446",
   "metadata": {},
   "outputs": [],
   "source": [
    "df_r.shape"
   ]
  },
  {
   "cell_type": "code",
   "execution_count": null,
   "id": "1c76b9dd",
   "metadata": {},
   "outputs": [],
   "source": [
    "df_update = df_r.merge(df_last, on=\"代號\", how=\"right\", indicator=True)\n",
    "df_update.columns = df_update.columns.str.replace(\"_x\", \"\")\n",
    "df_update.drop(list(df_update.filter(regex = \"_\")), axis = 1, inplace = True) "
   ]
  },
  {
   "cell_type": "code",
   "execution_count": null,
   "id": "01c5f884",
   "metadata": {},
   "outputs": [],
   "source": [
    "rank_dict = {\n",
    "    1: \"創高\",\n",
    "    2: \"次高\",\n",
    "    3: \"三高\"\n",
    "}\n",
    "rank_dict"
   ]
  },
  {
   "cell_type": "code",
   "execution_count": null,
   "id": "e34ba0d7",
   "metadata": {},
   "outputs": [],
   "source": [
    "def rank_des(x):\n",
    "    if x in rank_dict.keys():\n",
    "        return rank_dict[x]"
   ]
  },
  {
   "cell_type": "code",
   "execution_count": null,
   "id": "616d35a2",
   "metadata": {},
   "outputs": [],
   "source": [
    "last_m = df_update.columns[-1]"
   ]
  },
  {
   "cell_type": "code",
   "execution_count": null,
   "id": "f7fef269",
   "metadata": {},
   "outputs": [],
   "source": [
    "m_cols = [i for i in df_update.columns if re.match(\"\\d+-\\d+-\\d+\", i) is not None]\n",
    "m_same_cols = [i for i in df_update.columns if i[5:7] == last_m[5:7]]"
   ]
  },
  {
   "cell_type": "code",
   "execution_count": null,
   "id": "1f437594",
   "metadata": {},
   "outputs": [],
   "source": [
    "df_update_cp = df_update.copy()"
   ]
  },
  {
   "cell_type": "code",
   "execution_count": null,
   "id": "0c21be04",
   "metadata": {},
   "outputs": [],
   "source": [
    "df_update_cp[\"歷史\"] = df_update[m_cols].rank(axis=1, method=\"max\")[last_m].apply(rank_des)\n",
    "df_update_cp[\"同月\"] = df_update[m_same_cols].rank(axis=1, method=\"max\")[last_m].apply(rank_des)\n",
    "df_update_cp[\"歷史YoY\"] = df_update[m_cols].pct_change(axis=\"columns\", periods=12).rank(axis=1, method=\"max\")[last_m].apply(rank_des)\n",
    "df_update_cp[\"同月YoY\"] = df_update[m_cols].pct_change(axis=\"columns\", periods=12)[m_same_cols].rank(axis=1, method=\"max\")[last_m].apply(rank_des)"
   ]
  },
  {
   "cell_type": "code",
   "execution_count": null,
   "id": "e352b3a3",
   "metadata": {},
   "outputs": [],
   "source": [
    "df_update_cp.fillna(np.nan, inplace=True)"
   ]
  },
  {
   "cell_type": "code",
   "execution_count": null,
   "id": "a8a2c594",
   "metadata": {},
   "outputs": [],
   "source": [
    "df_high = df_update_cp[[\"代號\", \"名稱\", \"歷史\", \"同月\", \"歷史YoY\", \"同月YoY\"]]\n",
    "df_high"
   ]
  },
  {
   "cell_type": "code",
   "execution_count": null,
   "id": "6f6bddde",
   "metadata": {},
   "outputs": [],
   "source": []
  },
  {
   "cell_type": "code",
   "execution_count": null,
   "id": "1978822e",
   "metadata": {},
   "outputs": [],
   "source": []
  },
  {
   "cell_type": "markdown",
   "id": "1a9f7515",
   "metadata": {},
   "source": [
    "股價"
   ]
  },
  {
   "cell_type": "code",
   "execution_count": null,
   "id": "7274f7cd",
   "metadata": {},
   "outputs": [],
   "source": []
  },
  {
   "cell_type": "code",
   "execution_count": null,
   "id": "c87d3c6f",
   "metadata": {},
   "outputs": [],
   "source": []
  },
  {
   "cell_type": "markdown",
   "id": "c7f89cbd",
   "metadata": {},
   "source": [
    "和新增併表"
   ]
  },
  {
   "cell_type": "code",
   "execution_count": null,
   "id": "c4d826e0",
   "metadata": {},
   "outputs": [],
   "source": [
    "add_path = list(Path(add_dir).iterdir())[-1]\n",
    "add_path"
   ]
  },
  {
   "cell_type": "code",
   "execution_count": null,
   "id": "34db375d",
   "metadata": {},
   "outputs": [],
   "source": [
    "df_add = pd.read_csv(add_path, encoding=\"utf-8-sig\")"
   ]
  },
  {
   "cell_type": "code",
   "execution_count": null,
   "id": "532bba79",
   "metadata": {},
   "outputs": [],
   "source": [
    "df_add_high = df_add.merge(df_high, on=\"代號\", how=\"left\", indicator=True)"
   ]
  },
  {
   "cell_type": "code",
   "execution_count": null,
   "id": "3fa31a08",
   "metadata": {},
   "outputs": [],
   "source": [
    "df_add_high.columns = df_add_high.columns.str.replace(\"_x\", \"\")\n",
    "df_add_high = df_add_high.drop(list(df_add_high.filter(regex = \"_\")), axis = 1, inplace = False).fillna(np.nan, inplace=False)"
   ]
  },
  {
   "cell_type": "code",
   "execution_count": null,
   "id": "1614676a",
   "metadata": {},
   "outputs": [],
   "source": [
    "xq_path = list(Path(\"D:/python/_mops/xq\").iterdir())[-1]"
   ]
  },
  {
   "cell_type": "code",
   "execution_count": null,
   "id": "df9b83cc",
   "metadata": {},
   "outputs": [],
   "source": [
    "df_xq = pd.read_csv(xq_path, encoding=\"utf-8-sig\").drop([\"商品\"],axis = 1, inplace = False)"
   ]
  },
  {
   "cell_type": "code",
   "execution_count": null,
   "id": "b5b223e7",
   "metadata": {},
   "outputs": [],
   "source": [
    "df_xq.columns = df_xq.columns.str.replace(\"代碼\", \"代號\")"
   ]
  },
  {
   "cell_type": "code",
   "execution_count": null,
   "id": "eb68a76c",
   "metadata": {},
   "outputs": [],
   "source": [
    "df_add_high = df_add_high.merge(df_xq, on=\"代號\", how=\"left\", indicator=True)"
   ]
  },
  {
   "cell_type": "code",
   "execution_count": null,
   "id": "63bf1788",
   "metadata": {},
   "outputs": [],
   "source": [
    "df_add_high = df_add_high.drop(list(df_add_high.filter(regex = \"_\")), axis = 1, inplace = False).fillna(np.nan, inplace=False)"
   ]
  },
  {
   "cell_type": "code",
   "execution_count": null,
   "id": "c7f27163",
   "metadata": {},
   "outputs": [],
   "source": [
    "df_add_high = df_add_high[[c for c in df_add_high if c not in [\"備註\"]] + [\"備註\"]]"
   ]
  },
  {
   "cell_type": "code",
   "execution_count": null,
   "id": "13c27e80",
   "metadata": {},
   "outputs": [],
   "source": [
    "df_add_high[:3]"
   ]
  },
  {
   "cell_type": "code",
   "execution_count": null,
   "id": "d9a40d0b",
   "metadata": {},
   "outputs": [],
   "source": [
    "df_add_high[[\"MoM\", \"YoY\", \"累計YoY\"]] = df_add_high[[\"MoM\", \"YoY\", \"累計YoY\"]].round(2)"
   ]
  },
  {
   "cell_type": "code",
   "execution_count": null,
   "id": "bd233910",
   "metadata": {},
   "outputs": [],
   "source": [
    "df_add_high[:3]"
   ]
  },
  {
   "cell_type": "code",
   "execution_count": null,
   "id": "63ac1539",
   "metadata": {},
   "outputs": [],
   "source": [
    "html_path = \"R:/test.html\""
   ]
  },
  {
   "cell_type": "code",
   "execution_count": null,
   "id": "4e2d9c62",
   "metadata": {},
   "outputs": [],
   "source": [
    "add_high_html = df_add_high.fillna(\"\", inplace=False)"
   ]
  },
  {
   "cell_type": "code",
   "execution_count": null,
   "id": "93f2c2f9",
   "metadata": {},
   "outputs": [],
   "source": [
    "add_high_html.to_html(html_path, index=False)"
   ]
  },
  {
   "cell_type": "code",
   "execution_count": null,
   "id": "022b5380",
   "metadata": {},
   "outputs": [],
   "source": []
  },
  {
   "cell_type": "code",
   "execution_count": null,
   "id": "09da6420",
   "metadata": {},
   "outputs": [],
   "source": []
  },
  {
   "cell_type": "code",
   "execution_count": null,
   "id": "8fd0223f",
   "metadata": {},
   "outputs": [],
   "source": []
  }
 ],
 "metadata": {
  "kernelspec": {
   "display_name": "Python 3 (ipykernel)",
   "language": "python",
   "name": "python3"
  },
  "language_info": {
   "codemirror_mode": {
    "name": "ipython",
    "version": 3
   },
   "file_extension": ".py",
   "mimetype": "text/x-python",
   "name": "python",
   "nbconvert_exporter": "python",
   "pygments_lexer": "ipython3",
   "version": "3.9.12"
  }
 },
 "nbformat": 4,
 "nbformat_minor": 5
}
