{
 "cells": [
  {
   "cell_type": "code",
   "execution_count": 1,
   "id": "0455df57",
   "metadata": {},
   "outputs": [],
   "source": [
    "import re\n",
    "import os\n",
    "import sys\n",
    "import time\n",
    "import codecs\n",
    "import random\n",
    "import shutil\n",
    "import smtplib\n",
    "import requests\n",
    "import datetime\n",
    "import openpyxl\n",
    "import configparser\n",
    "import numpy as np\n",
    "import pandas as pd\n",
    "from bs4 import BeautifulSoup as BS\n",
    "from pathlib import Path\n",
    "from chardet import detect\n",
    "from functools import reduce\n",
    "# from datetime import datetime, date, timedelta\n",
    "# from datetime import date, timedelta\n",
    "from dateutil.relativedelta import relativedelta"
   ]
  },
  {
   "cell_type": "code",
   "execution_count": 2,
   "id": "679f5deb",
   "metadata": {},
   "outputs": [],
   "source": [
    "%config Completer.use_jedi = False"
   ]
  },
  {
   "cell_type": "code",
   "execution_count": 3,
   "id": "e2f4d08a",
   "metadata": {},
   "outputs": [],
   "source": [
    "def _load_config():\n",
    "    config_path = \"./config.ini\"\n",
    "    with open(config_path, \"rb\") as ef:\n",
    "        config_encoding = detect(ef.read())[\"encoding\"]\n",
    "    config = configparser.ConfigParser()\n",
    "    config.read_file(codecs.open(config_path, \"r\", config_encoding))\n",
    "    return config"
   ]
  },
  {
   "cell_type": "code",
   "execution_count": 4,
   "id": "aec3b9d2",
   "metadata": {},
   "outputs": [],
   "source": [
    "config = _load_config()"
   ]
  },
  {
   "cell_type": "code",
   "execution_count": 5,
   "id": "6f0577e1",
   "metadata": {},
   "outputs": [],
   "source": [
    "def _requests_session():\n",
    "    session = requests.session()\n",
    "    headers = {\n",
    "        \"user-agent\": \"Mozilla/5.0 (Windows NT 10.0; Win64; x64) AppleWebKit/537.36 (KHTML, like Gecko) Chrome/83.0.4103.61 Safari/537.36\"\n",
    "    }\n",
    "    session.headers.update(headers)\n",
    "    return session"
   ]
  },
  {
   "cell_type": "code",
   "execution_count": 6,
   "id": "9f774845",
   "metadata": {},
   "outputs": [],
   "source": [
    "def multiple_replace(sub_dict, text):\n",
    "     # Create a regular expression  from the dictionary keys\n",
    "    regex = re.compile(\"(%s)\" % \"|\".join(map(re.escape, sub_dict.keys())))\n",
    "\n",
    "     # For each match, look-up corresponding value in dictionary\n",
    "    return regex.sub(lambda mo: sub_dict[mo.string[mo.start():mo.end()]], text)"
   ]
  },
  {
   "cell_type": "code",
   "execution_count": 7,
   "id": "e734748e",
   "metadata": {},
   "outputs": [],
   "source": [
    "def df_m_pick(df_path, col_name):\n",
    "    df = pd.read_csv(df_path, encoding=\"utf-8-sig\")\n",
    "    df[df[\"資料年月\"][0]] = df[col_name]\n",
    "    df_m = df[[\"代號\", \"名稱\", df[\"資料年月\"][0]]]\n",
    "    return df_m"
   ]
  },
  {
   "cell_type": "code",
   "execution_count": 8,
   "id": "e31bf921",
   "metadata": {},
   "outputs": [],
   "source": [
    "# market = [\"sii\", \"otc\", \"rotc\"]\n",
    "market = [\"rotc\"]"
   ]
  },
  {
   "cell_type": "markdown",
   "id": "7c758c70",
   "metadata": {},
   "source": [
    "### 路徑"
   ]
  },
  {
   "cell_type": "code",
   "execution_count": 9,
   "id": "c4110ada",
   "metadata": {},
   "outputs": [],
   "source": [
    "os.makedirs(\"./rotc\", exist_ok=True)"
   ]
  },
  {
   "cell_type": "code",
   "execution_count": 10,
   "id": "e290b046",
   "metadata": {},
   "outputs": [
    {
     "data": {
      "text/plain": [
       "['csv', 'xlsx']"
      ]
     },
     "execution_count": 10,
     "metadata": {},
     "output_type": "execute_result"
    }
   ],
   "source": [
    "os.chdir(\"./rotc\")\n",
    "os.listdir()"
   ]
  },
  {
   "cell_type": "code",
   "execution_count": 11,
   "id": "235680d1",
   "metadata": {},
   "outputs": [],
   "source": [
    "# os.chdir(\"..\")\n",
    "# os.listdir()"
   ]
  },
  {
   "cell_type": "code",
   "execution_count": null,
   "id": "08afe52b",
   "metadata": {},
   "outputs": [],
   "source": []
  },
  {
   "cell_type": "code",
   "execution_count": 12,
   "id": "6192ec0a",
   "metadata": {},
   "outputs": [],
   "source": [
    "# 過去raw csv\n",
    "past_dir = \"./csv/past\"\n",
    "\n",
    "# 過去合併\n",
    "past_all_dir = \"./csv/past_all\"\n",
    "\n",
    "\n",
    "# 全部併成data\n",
    "data_dir = \"./csv/data\"\n",
    "data_rev_dir = \"./csv/data/rev\"\n",
    "data_yoy_dir = \"./csv/data/yoy\"\n",
    "data_cum_rev_dir = \"./csv/data/cum-rev\"\n",
    "data_cum_yoy_dir = \"./csv/data/cum-yoy\"\n",
    "\n",
    "# 單天csv\n",
    "market_dir = \"./csv/_market\"\n",
    "# sii_dir = \"./csv/_market/sii\"\n",
    "# otc_dir = \"./csv/_market/otc\"\n",
    "rotc_dir = \"./csv/_market/rotc\"\n",
    "\n",
    "# 單天合併\n",
    "concat_dir = \"./csv/all\"\n",
    "\n",
    "# 當天新增\n",
    "add_dir = \"./csv/add\"\n",
    "\n",
    "# 月營收xlsx\n",
    "xlsx_dir = \"./xlsx\""
   ]
  },
  {
   "cell_type": "code",
   "execution_count": 13,
   "id": "5b4dde59",
   "metadata": {},
   "outputs": [],
   "source": [
    "dir_list = [past_dir, past_all_dir, data_dir, data_rev_dir, data_yoy_dir, data_cum_rev_dir, data_cum_yoy_dir, market_dir, rotc_dir, \\\n",
    "           concat_dir, add_dir, xlsx_dir]"
   ]
  },
  {
   "cell_type": "code",
   "execution_count": 14,
   "id": "ad7bb7f7",
   "metadata": {},
   "outputs": [],
   "source": [
    "for d in dir_list:\n",
    "    os.makedirs(d, exist_ok=True)"
   ]
  },
  {
   "cell_type": "markdown",
   "id": "5fd4f906",
   "metadata": {},
   "source": [
    "### 抓以前的資料"
   ]
  },
  {
   "cell_type": "code",
   "execution_count": 15,
   "id": "8e00919a",
   "metadata": {},
   "outputs": [],
   "source": [
    "Y = list(range(111, 112))\n",
    "M = list(range(8, 9))\n",
    "mkt = [\"rotc\"]\n",
    "\n",
    "import itertools\n",
    "cum = len(Y)*len(M)*len(mkt)\n",
    "\n",
    "os.makedirs(\"./csv/past\", exist_ok=True)"
   ]
  },
  {
   "cell_type": "code",
   "execution_count": 16,
   "id": "198a0404",
   "metadata": {},
   "outputs": [
    {
     "name": "stdout",
     "output_type": "stream",
     "text": [
      "1 / 1 done.\n"
     ]
    }
   ],
   "source": [
    "count = 0\n",
    "\n",
    "for y, m, mk in itertools.product(Y, M, mkt):\n",
    "    url = \"https://mops.twse.com.tw/nas/t21/{}/t21sc03_{}_{}.csv\".format(mk, y, m)\n",
    "    rs = _requests_session()\n",
    "    res = rs.get(url)\n",
    "    res.encoding = \"utf-8-sig\"\n",
    "\n",
    "    save_path = \"./csv/past/m-rev-{}-{}-{}.csv\".format(str(y+1911), str(m).zfill(2), mk)\n",
    "    with open(save_path, \"w\", encoding=\"utf-8-sig\") as save:\n",
    "        save.write(res.text.replace(\"\\r\\n\", \"\\n\"))\n",
    "\n",
    "    count += 1\n",
    "    if count % 10 == 0:\n",
    "        print(\"{} / {} done.\".format(count, cum))\n",
    "    time.sleep(random.uniform(1.5, 7))\n",
    "    # print(url)\n",
    "print(\"{} / {} done.\".format(count, cum))"
   ]
  },
  {
   "cell_type": "markdown",
   "id": "247fb26f",
   "metadata": {},
   "source": [
    "一堆月營收興櫃合併"
   ]
  },
  {
   "cell_type": "code",
   "execution_count": 17,
   "id": "8f2f1bda",
   "metadata": {},
   "outputs": [],
   "source": [
    "def data_date(x):\n",
    "    match = re.search(\"(\\d+)/(\\d+)\", x)\n",
    "    data_Y = int(match[1]) + 1911\n",
    "    data_m = int(match[2])\n",
    "    return datetime.datetime(data_Y, data_m, 1) + relativedelta(months=1) - datetime.timedelta(days=1)"
   ]
  },
  {
   "cell_type": "code",
   "execution_count": 18,
   "id": "6925c3f3",
   "metadata": {},
   "outputs": [
    {
     "data": {
      "text/plain": [
       "['csv', 'xlsx']"
      ]
     },
     "execution_count": 18,
     "metadata": {},
     "output_type": "execute_result"
    }
   ],
   "source": [
    "os.listdir()"
   ]
  },
  {
   "cell_type": "code",
   "execution_count": 19,
   "id": "8f1d0cd6",
   "metadata": {},
   "outputs": [
    {
     "data": {
      "text/plain": [
       "WindowsPath('csv/past/m-rev-2022-08-rotc.csv')"
      ]
     },
     "execution_count": 19,
     "metadata": {},
     "output_type": "execute_result"
    }
   ],
   "source": [
    "past_list = list(Path(\"./csv/past\").iterdir())\n",
    "past_list[-1]"
   ]
  },
  {
   "cell_type": "code",
   "execution_count": 20,
   "id": "df94f599",
   "metadata": {},
   "outputs": [],
   "source": [
    "past_rotc = list(Path(\"./csv/past\").glob(\"*otc*\"))"
   ]
  },
  {
   "cell_type": "code",
   "execution_count": 21,
   "id": "1a01a376",
   "metadata": {},
   "outputs": [
    {
     "data": {
      "text/plain": [
       "80"
      ]
     },
     "execution_count": 21,
     "metadata": {},
     "output_type": "execute_result"
    }
   ],
   "source": [
    "len(past_rotc)"
   ]
  },
  {
   "cell_type": "code",
   "execution_count": 22,
   "id": "9ddb1313",
   "metadata": {},
   "outputs": [],
   "source": [
    "past_zip = [list(a) for a in zip(past_rotc)]"
   ]
  },
  {
   "cell_type": "code",
   "execution_count": 23,
   "id": "be2f0c50",
   "metadata": {},
   "outputs": [
    {
     "data": {
      "text/plain": [
       "[WindowsPath('csv/past/m-rev-2016-01-rotc.csv')]"
      ]
     },
     "execution_count": 23,
     "metadata": {},
     "output_type": "execute_result"
    }
   ],
   "source": [
    "past_zip[0]"
   ]
  },
  {
   "cell_type": "code",
   "execution_count": 24,
   "id": "2fc624d1",
   "metadata": {},
   "outputs": [],
   "source": [
    "def past_concat(df_path):\n",
    "    dfs = [pd.read_csv(path, encoding=\"utf-8-sig\") for path in df_path]\n",
    "    df_c = pd.concat(dfs, axis=0, join=\"outer\", ignore_index=True, copy=True)\n",
    "    df_cols = [\"出表日期\", \"資料年月\", \"代號\", \"名稱\", \"產業\", \"月營收\", \"上月營收\", \"去年當月營收\", \"MoM\", \"YoY\", \"累計營收\", \"去年累計\", \"累計YoY\", \"備註\"]\n",
    "    df_c.columns = df_cols\n",
    "    drop_cols = [\"出表日期\", \"上月營收\", \"去年當月營收\", \"去年累計\"]\n",
    "    df_c.drop(drop_cols, axis=1, inplace=True)\n",
    "    df_c=df_c.drop_duplicates()\n",
    "    df_c[\"資料年月\"] = df_c[\"資料年月\"].apply(data_date)\n",
    "    data_date_str = re.search(\"\\d+-\\d+\", df_path[0].name)[0]\n",
    "    concat_path = \"{}/m-rev-{}.csv\".format(past_all_dir, data_date_str)\n",
    "    df_c.to_csv(concat_path, index=False, encoding=\"utf-8-sig\")"
   ]
  },
  {
   "cell_type": "code",
   "execution_count": 25,
   "id": "df8d2f7f",
   "metadata": {},
   "outputs": [],
   "source": [
    "a = list(map(past_concat, past_zip))"
   ]
  },
  {
   "cell_type": "markdown",
   "id": "8c68c554",
   "metadata": {},
   "source": [
    "一大堆合併到一張表"
   ]
  },
  {
   "cell_type": "code",
   "execution_count": 26,
   "id": "d9c7c722",
   "metadata": {},
   "outputs": [],
   "source": [
    "past_all = list(Path(\"./csv/past_all\").iterdir())"
   ]
  },
  {
   "cell_type": "code",
   "execution_count": 27,
   "id": "9ad2f3cc",
   "metadata": {},
   "outputs": [],
   "source": [
    "past_all.sort()"
   ]
  },
  {
   "cell_type": "code",
   "execution_count": 28,
   "id": "94c3e95b",
   "metadata": {},
   "outputs": [
    {
     "data": {
      "text/plain": [
       "WindowsPath('csv/past_all/m-rev-2016-01.csv')"
      ]
     },
     "execution_count": 28,
     "metadata": {},
     "output_type": "execute_result"
    }
   ],
   "source": [
    "df_t_0_path = past_all[0]\n",
    "df_t_0_path"
   ]
  },
  {
   "cell_type": "code",
   "execution_count": 29,
   "id": "24915f08",
   "metadata": {},
   "outputs": [
    {
     "data": {
      "text/plain": [
       "WindowsPath('csv/past_all/m-rev-2022-08.csv')"
      ]
     },
     "execution_count": 29,
     "metadata": {},
     "output_type": "execute_result"
    }
   ],
   "source": [
    "past_all[-1]"
   ]
  },
  {
   "cell_type": "code",
   "execution_count": 30,
   "id": "8a9338b8",
   "metadata": {},
   "outputs": [],
   "source": [
    "df_t_s = past_all[1:]"
   ]
  },
  {
   "cell_type": "code",
   "execution_count": 31,
   "id": "404951c6",
   "metadata": {},
   "outputs": [],
   "source": [
    "def merge_data(dir_name, col_name):\n",
    "    for file in list(Path(\"./csv/data/{}\".format(dir_name)).iterdir()):\n",
    "        file.unlink()\n",
    "        \n",
    "    df_m_0 = df_m_pick(df_t_0_path, col_name)\n",
    "    df_m_0_path = \"./csv/data/{}/m-rev-data-{}-{}.csv\".format(dir_name, dir_name, df_m_0.columns[-1])\n",
    "    df_m_0.to_csv(df_m_0_path, index=False, encoding=\"utf-8-sig\")\n",
    "    \n",
    "    for df_t in df_t_s:\n",
    "        df_temp_0_path = list(Path(\"./csv/data/{}\".format(dir_name)).iterdir())[-1]\n",
    "        df_temp_0 = pd.read_csv(df_temp_0_path, encoding=\"utf-8-sig\")\n",
    "    #     print(df_temp_0_path, df_temp_0.shape)\n",
    "\n",
    "        df_temp_r = df_m_pick(df_t, col_name)\n",
    "        df_temp_m = pd.merge(df_temp_0, df_temp_r, on=[\"代號\", \"名稱\"], how=\"outer\").drop_duplicates()\n",
    "    #     print(df_t, df_temp_r.shape)\n",
    "\n",
    "#         df_temp_m = df_temp_m.drop_duplicates()\n",
    "\n",
    "    #     print(df_temp_m.shape)\n",
    "        df_temp_m_path = \"./csv/data/{}/m-rev-data-{}-{}.csv\".format(dir_name, dir_name, df_temp_m.columns[-1])\n",
    "        df_temp_m.to_csv(df_temp_m_path, index=False, encoding=\"utf-8-sig\")\n",
    "\n",
    "#         print(df_temp_0.shape, df_temp_r.shape, df_temp_m.shape)\n",
    "#         print(\"{} done.\\n\".format(df_temp_m.columns[-1]))\n",
    "        \n",
    "    for file in list(Path(\"./csv/data/{}\".format(dir_name)).iterdir())[:-1]:\n",
    "        file.unlink()"
   ]
  },
  {
   "cell_type": "code",
   "execution_count": 32,
   "id": "9f596488",
   "metadata": {},
   "outputs": [],
   "source": [
    "merge_data(\"rev\", \"月營收\")\n",
    "merge_data(\"yoy\", \"YoY\")\n",
    "merge_data(\"cum-rev\", \"累計營收\")\n",
    "merge_data(\"cum-yoy\", \"累計YoY\")"
   ]
  },
  {
   "cell_type": "markdown",
   "id": "aa58d9c3",
   "metadata": {},
   "source": [
    "去除重複"
   ]
  },
  {
   "cell_type": "code",
   "execution_count": 33,
   "id": "76549ad5",
   "metadata": {},
   "outputs": [],
   "source": [
    "def data_drop_dup(dir_name):\n",
    "    path_rev = list(Path(\"./csv/data/{}\".format(dir_name)).iterdir())[-1]\n",
    "    df = pd.read_csv(path_rev, encoding=\"utf-8-sig\")\n",
    "    df_group = df.groupby(by=[\"代號\"]).sum()\n",
    "    df_name_last = df[[\"代號\", \"名稱\"]].drop_duplicates(subset=\"代號\", keep=\"last\")\n",
    "    df_data = pd.merge(df_group, df_name_last, on=[\"代號\"], how=\"outer\")\n",
    "    df_data_cols = df_data.columns[:-1].insert(1, \"名稱\")\n",
    "    df_data_fix = df_data[df_data_cols]\n",
    "    df_data_fix.to_csv(path_rev, index=False, encoding=\"utf-8-sig\")"
   ]
  },
  {
   "cell_type": "code",
   "execution_count": 34,
   "id": "3398a4c4",
   "metadata": {},
   "outputs": [],
   "source": [
    "dir_name_list = [\"rev\", \"yoy\", \"cum-rev\", \"cum-yoy\"]"
   ]
  },
  {
   "cell_type": "code",
   "execution_count": 35,
   "id": "0475baf0",
   "metadata": {},
   "outputs": [],
   "source": [
    "for file in dir_name_list:\n",
    "    data_drop_dup(file)"
   ]
  },
  {
   "cell_type": "markdown",
   "id": "b3e72485",
   "metadata": {},
   "source": [
    "### 興櫃名單"
   ]
  },
  {
   "cell_type": "code",
   "execution_count": 36,
   "id": "e525c870",
   "metadata": {},
   "outputs": [],
   "source": [
    "def data_rotc_update(dir_name):\n",
    "    path_rev = list(Path(\"./csv/data/{}\".format(dir_name)).iterdir())[-1]\n",
    "    rotc_link = \"https://isin.twse.com.tw/isin/C_public.jsp?strMode=5\"\n",
    "    rs = _requests_session()\n",
    "    rotc_page = rs.get(rotc_link)\n",
    "    soup = BS(rotc_page.text, \"lxml\")\n",
    "    df_raw = pd.read_html(soup.prettify(), header=0, attrs = {\"class\": \"h4\"})[0]\n",
    "    df_rotc = df_raw[df_raw[\"市場別\"] == \"興櫃一般板\"].reset_index(drop=True)\n",
    "    df_rotc[\"代號\"] = df_rotc[\"有價證券代號及名稱\"].str.extract(\"^(\\d{4})\").astype(\"int64\")\n",
    "    df_rotc[\"名稱\"] = df_rotc[\"有價證券代號及名稱\"].str.extract(\"^\\d{4}　(\\w+)\")\n",
    "    df_rotc_u = df_rotc[[\"代號\", \"名稱\"]]\n",
    "    \n",
    "    path_rev = list(Path(\"./csv/data/{}\".format(dir_name)).iterdir())[-1]\n",
    "    df = pd.read_csv(path_rev, encoding=\"utf-8-sig\")\n",
    "    df_m = df.merge(df_rotc_u, how=\"right\", on=\"代號\", indicator=False)\n",
    "    df_m[\"名稱_x\"] = df_m[\"名稱_y\"]\n",
    "    m_cols = df_m.columns.tolist()\n",
    "    df_m_fix = df_m[m_cols[:-1]]\n",
    "    m_cols[1] = \"名稱\"\n",
    "    df_m_fix.columns = m_cols[:-1]\n",
    "    df_m_fix.to_csv(path_rev, index=False, encoding=\"utf-8-sig\")"
   ]
  },
  {
   "cell_type": "code",
   "execution_count": 37,
   "id": "6fe273f5",
   "metadata": {},
   "outputs": [],
   "source": [
    "dir_name_list = [\"rev\", \"yoy\", \"cum-rev\", \"cum-yoy\"]"
   ]
  },
  {
   "cell_type": "code",
   "execution_count": 38,
   "id": "08579f38",
   "metadata": {},
   "outputs": [],
   "source": [
    "for file in dir_name_list:\n",
    "    data_rotc_update(file)"
   ]
  },
  {
   "cell_type": "code",
   "execution_count": null,
   "id": "f32b28c6",
   "metadata": {},
   "outputs": [],
   "source": []
  }
 ],
 "metadata": {
  "kernelspec": {
   "display_name": "Python 3 (ipykernel)",
   "language": "python",
   "name": "python3"
  },
  "language_info": {
   "codemirror_mode": {
    "name": "ipython",
    "version": 3
   },
   "file_extension": ".py",
   "mimetype": "text/x-python",
   "name": "python",
   "nbconvert_exporter": "python",
   "pygments_lexer": "ipython3",
   "version": "3.9.12"
  }
 },
 "nbformat": 4,
 "nbformat_minor": 5
}
